{
 "cells": [
  {
   "cell_type": "markdown",
   "metadata": {},
   "source": [
    "### What's a perceptron?\n",
    "- 1+ inputs, a bias, activation function, and a single output\n",
    "- activation functions such as logistic, trigonometric, step\n",
    "- bias avoids issues where all inputs == 0, and therefore no multiplicative weight would have an effect\n",
    "\n",
    "\n",
    "- This output can then be compared to known labels to which weights can be adjusted accordingly\n",
    "- These weights are usually initialized with random values\n",
    "- Repeat this until the defined number of iterations or an acceptable error rate\n",
    "\n",
    "### What's a neural network?\n",
    "- Layers of perceptrons that mimics a biological neural networks usage of passing inputs/outputs between neurons through axons. \n",
    "- Layers\n",
    "    - Input layers which directly take the feature inputs\n",
    "    - Hidden layers so named because they don't directly see the in/outputs\n",
    "    - Output layers which create the results\n"
   ]
  },
  {
   "cell_type": "code",
   "execution_count": 1,
   "metadata": {},
   "outputs": [],
   "source": [
    "import sklearn as skl\n",
    "from sklearn.datasets import load_breast_cancer"
   ]
  },
  {
   "cell_type": "code",
   "execution_count": 3,
   "metadata": {},
   "outputs": [
    {
     "data": {
      "text/plain": [
       "dict_keys(['data', 'target', 'target_names', 'DESCR', 'feature_names'])"
      ]
     },
     "execution_count": 3,
     "metadata": {},
     "output_type": "execute_result"
    }
   ],
   "source": [
    "cancer = load_breast_cancer()\n",
    "cancer.keys()"
   ]
  },
  {
   "cell_type": "code",
   "execution_count": 5,
   "metadata": {},
   "outputs": [
    {
     "name": "stdout",
     "output_type": "stream",
     "text": [
      "Breast Cancer Wisconsin (Diagnostic) Database\n",
      "=============================================\n",
      "\n",
      "Notes\n",
      "-----\n",
      "Data Set Characteristics:\n",
      "    :Number of Instances: 569\n",
      "\n",
      "    :Number of Attributes: 30 numeric, predictive attributes and the class\n",
      "\n",
      "    :Attribute Information:\n",
      "        - radius (mean of distances from center to points on the perimeter)\n",
      "        - texture (standard deviation of gray-scale values)\n",
      "        - perimeter\n",
      "        - area\n",
      "        - smoothness (local variation in radius lengths)\n",
      "        - compactness (perimeter^2 / area - 1.0)\n",
      "        - concavity (severity of concave portions of the contour)\n",
      "        - concave points (number of concave portions of the contour)\n",
      "        - symmetry \n",
      "        - fractal dimension (\"coastline approximation\" - 1)\n",
      "\n",
      "        The mean, standard error, and \"worst\" or largest (mean of the three\n",
      "        largest values) of these features were computed for each image,\n",
      "        resulting in 30 features.  For instance, field 3 is Mean Radius, field\n",
      "        13 is Radius SE, field 23 is Worst Radius.\n",
      "\n",
      "        - class:\n",
      "                - WDBC-Malignant\n",
      "                - WDBC-Benign\n",
      "\n",
      "    :Summary Statistics:\n",
      "\n",
      "    ===================================== ====== ======\n",
      "                                           Min    Max\n",
      "    ===================================== ====== ======\n",
      "    radius (mean):                        6.981  28.11\n",
      "    texture (mean):                       9.71   39.28\n",
      "    perimeter (mean):                     43.79  188.5\n",
      "    area (mean):                          143.5  2501.0\n",
      "    smoothness (mean):                    0.053  0.163\n",
      "    compactness (mean):                   0.019  0.345\n",
      "    concavity (mean):                     0.0    0.427\n",
      "    concave points (mean):                0.0    0.201\n",
      "    symmetry (mean):                      0.106  0.304\n",
      "    fractal dimension (mean):             0.05   0.097\n",
      "    radius (standard error):              0.112  2.873\n",
      "    texture (standard error):             0.36   4.885\n",
      "    perimeter (standard error):           0.757  21.98\n",
      "    area (standard error):                6.802  542.2\n",
      "    smoothness (standard error):          0.002  0.031\n",
      "    compactness (standard error):         0.002  0.135\n",
      "    concavity (standard error):           0.0    0.396\n",
      "    concave points (standard error):      0.0    0.053\n",
      "    symmetry (standard error):            0.008  0.079\n",
      "    fractal dimension (standard error):   0.001  0.03\n",
      "    radius (worst):                       7.93   36.04\n",
      "    texture (worst):                      12.02  49.54\n",
      "    perimeter (worst):                    50.41  251.2\n",
      "    area (worst):                         185.2  4254.0\n",
      "    smoothness (worst):                   0.071  0.223\n",
      "    compactness (worst):                  0.027  1.058\n",
      "    concavity (worst):                    0.0    1.252\n",
      "    concave points (worst):               0.0    0.291\n",
      "    symmetry (worst):                     0.156  0.664\n",
      "    fractal dimension (worst):            0.055  0.208\n",
      "    ===================================== ====== ======\n",
      "\n",
      "    :Missing Attribute Values: None\n",
      "\n",
      "    :Class Distribution: 212 - Malignant, 357 - Benign\n",
      "\n",
      "    :Creator:  Dr. William H. Wolberg, W. Nick Street, Olvi L. Mangasarian\n",
      "\n",
      "    :Donor: Nick Street\n",
      "\n",
      "    :Date: November, 1995\n",
      "\n",
      "This is a copy of UCI ML Breast Cancer Wisconsin (Diagnostic) datasets.\n",
      "https://goo.gl/U2Uwz2\n",
      "\n",
      "Features are computed from a digitized image of a fine needle\n",
      "aspirate (FNA) of a breast mass.  They describe\n",
      "characteristics of the cell nuclei present in the image.\n",
      "\n",
      "Separating plane described above was obtained using\n",
      "Multisurface Method-Tree (MSM-T) [K. P. Bennett, \"Decision Tree\n",
      "Construction Via Linear Programming.\" Proceedings of the 4th\n",
      "Midwest Artificial Intelligence and Cognitive Science Society,\n",
      "pp. 97-101, 1992], a classification method which uses linear\n",
      "programming to construct a decision tree.  Relevant features\n",
      "were selected using an exhaustive search in the space of 1-4\n",
      "features and 1-3 separating planes.\n",
      "\n",
      "The actual linear program used to obtain the separating plane\n",
      "in the 3-dimensional space is that described in:\n",
      "[K. P. Bennett and O. L. Mangasarian: \"Robust Linear\n",
      "Programming Discrimination of Two Linearly Inseparable Sets\",\n",
      "Optimization Methods and Software 1, 1992, 23-34].\n",
      "\n",
      "This database is also available through the UW CS ftp server:\n",
      "\n",
      "ftp ftp.cs.wisc.edu\n",
      "cd math-prog/cpo-dataset/machine-learn/WDBC/\n",
      "\n",
      "References\n",
      "----------\n",
      "   - W.N. Street, W.H. Wolberg and O.L. Mangasarian. Nuclear feature extraction \n",
      "     for breast tumor diagnosis. IS&T/SPIE 1993 International Symposium on \n",
      "     Electronic Imaging: Science and Technology, volume 1905, pages 861-870,\n",
      "     San Jose, CA, 1993.\n",
      "   - O.L. Mangasarian, W.N. Street and W.H. Wolberg. Breast cancer diagnosis and \n",
      "     prognosis via linear programming. Operations Research, 43(4), pages 570-577, \n",
      "     July-August 1995.\n",
      "   - W.H. Wolberg, W.N. Street, and O.L. Mangasarian. Machine learning techniques\n",
      "     to diagnose breast cancer from fine-needle aspirates. Cancer Letters 77 (1994) \n",
      "     163-171.\n",
      "\n"
     ]
    }
   ],
   "source": [
    "print(cancer['DESCR'])"
   ]
  },
  {
   "cell_type": "code",
   "execution_count": 6,
   "metadata": {
    "scrolled": true
   },
   "outputs": [
    {
     "data": {
      "text/plain": [
       "(569, 30)"
      ]
     },
     "execution_count": 6,
     "metadata": {},
     "output_type": "execute_result"
    }
   ],
   "source": [
    "cancer['data'].shape"
   ]
  },
  {
   "cell_type": "code",
   "execution_count": 7,
   "metadata": {},
   "outputs": [],
   "source": [
    "# Set up labels\n",
    "x = cancer['data']\n",
    "y = cancer['target']"
   ]
  },
  {
   "cell_type": "code",
   "execution_count": 13,
   "metadata": {},
   "outputs": [
    {
     "data": {
      "text/plain": [
       "array([0, 0, 0, 0, 0, 0, 0, 0, 0, 0, 0, 0, 0, 0, 0, 0, 0, 0, 0, 1, 1, 1, 0,\n",
       "       0, 0, 0, 0, 0, 0, 0, 0, 0, 0, 0, 0, 0, 0, 1, 0, 0, 0, 0, 0, 0, 0, 0,\n",
       "       1, 0, 1, 1, 1, 1, 1, 0, 0, 1, 0, 0, 1, 1, 1, 1, 0, 1, 0, 0, 1, 1, 1,\n",
       "       1, 0, 1, 0, 0, 1, 0, 1, 0, 0, 1, 1, 1, 0, 0, 1, 0, 0, 0, 1, 1, 1, 0,\n",
       "       1, 1, 0, 0, 1, 1, 1, 0, 0, 1, 1, 1, 1, 0, 1, 1, 0, 1, 1, 1, 1, 1, 1,\n",
       "       1, 1, 0, 0, 0, 1, 0, 0, 1, 1, 1, 0, 0, 1, 0, 1, 0, 0, 1, 0, 0, 1, 1,\n",
       "       0, 1, 1, 0, 1, 1, 1, 1, 0, 1, 1, 1, 1, 1, 1, 1, 1, 1, 0, 1, 1, 1, 1,\n",
       "       0, 0, 1, 0, 1, 1, 0, 0, 1, 1, 0, 0, 1, 1, 1, 1, 0, 1, 1, 0, 0, 0, 1,\n",
       "       0, 1, 0, 1, 1, 1, 0, 1, 1, 0, 0, 1, 0, 0, 0, 0, 1, 0, 0, 0, 1, 0, 1,\n",
       "       0, 1, 1, 0, 1, 0, 0, 0, 0, 1, 1, 0, 0, 1, 1, 1, 0, 1, 1, 1, 1, 1, 0,\n",
       "       0, 1, 1, 0, 1, 1, 0, 0, 1, 0, 1, 1, 1, 1, 0, 1, 1, 1, 1, 1, 0, 1, 0,\n",
       "       0, 0, 0, 0, 0, 0, 0, 0, 0, 0, 0, 0, 0, 1, 1, 1, 1, 1, 1, 0, 1, 0, 1,\n",
       "       1, 0, 1, 1, 0, 1, 0, 0, 1, 1, 1, 1, 1, 1, 1, 1, 1, 1, 1, 1, 1, 0, 1,\n",
       "       1, 0, 1, 0, 1, 1, 1, 1, 1, 1, 1, 1, 1, 1, 1, 1, 1, 1, 0, 1, 1, 1, 0,\n",
       "       1, 0, 1, 1, 1, 1, 0, 0, 0, 1, 1, 1, 1, 0, 1, 0, 1, 0, 1, 1, 1, 0, 1,\n",
       "       1, 1, 1, 1, 1, 1, 0, 0, 0, 1, 1, 1, 1, 1, 1, 1, 1, 1, 1, 1, 0, 0, 1,\n",
       "       0, 0, 0, 1, 0, 0, 1, 1, 1, 1, 1, 0, 1, 1, 1, 1, 1, 0, 1, 1, 1, 0, 1,\n",
       "       1, 0, 0, 1, 1, 1, 1, 1, 1, 0, 1, 1, 1, 1, 1, 1, 1, 0, 1, 1, 1, 1, 1,\n",
       "       0, 1, 1, 0, 1, 1, 1, 1, 1, 1, 1, 1, 1, 1, 1, 1, 0, 1, 0, 0, 1, 0, 1,\n",
       "       1, 1, 1, 1, 0, 1, 1, 0, 1, 0, 1, 1, 0, 1, 0, 1, 1, 1, 1, 1, 1, 1, 1,\n",
       "       0, 0, 1, 1, 1, 1, 1, 1, 0, 1, 1, 1, 1, 1, 1, 1, 1, 1, 1, 0, 1, 1, 1,\n",
       "       1, 1, 1, 1, 0, 1, 0, 1, 1, 0, 1, 1, 1, 1, 1, 0, 0, 1, 0, 1, 0, 1, 1,\n",
       "       1, 1, 1, 0, 1, 1, 0, 1, 0, 1, 0, 0, 1, 1, 1, 0, 1, 1, 1, 1, 1, 1, 1,\n",
       "       1, 1, 1, 1, 0, 1, 0, 0, 1, 1, 1, 1, 1, 1, 1, 1, 1, 1, 1, 1, 1, 1, 1,\n",
       "       1, 1, 1, 1, 1, 1, 1, 1, 1, 1, 0, 0, 0, 0, 0, 0, 1])"
      ]
     },
     "execution_count": 13,
     "metadata": {},
     "output_type": "execute_result"
    }
   ],
   "source": [
    "cancer['target']\n",
    "# 0 and 1 refer to malignant and benign"
   ]
  },
  {
   "cell_type": "code",
   "execution_count": 14,
   "metadata": {},
   "outputs": [],
   "source": [
    "# split into training and test sets\n",
    "from sklearn.model_selection import train_test_split\n",
    "x_train, x_test, y_train, y_test = train_test_split(x, y)"
   ]
  },
  {
   "cell_type": "markdown",
   "metadata": {},
   "source": [
    "### Preprocessing\n",
    "- Multi-layer perceptrons are sensitive to feature scaling\n",
    "- NN may have difficulty converging is data is not normalized\n",
    "- Remember to apply scaling normalization to both training and test sets"
   ]
  },
  {
   "cell_type": "code",
   "execution_count": 15,
   "metadata": {},
   "outputs": [
    {
     "data": {
      "text/plain": [
       "StandardScaler(copy=True, with_mean=True, with_std=True)"
      ]
     },
     "execution_count": 15,
     "metadata": {},
     "output_type": "execute_result"
    }
   ],
   "source": [
    "from sklearn.preprocessing import StandardScaler\n",
    "scaler = StandardScaler()\n",
    "\n",
    "# Fit to training data\n",
    "scaler.fit(x_train)"
   ]
  },
  {
   "cell_type": "code",
   "execution_count": 23,
   "metadata": {
    "scrolled": false
   },
   "outputs": [
    {
     "data": {
      "text/plain": [
       "numpy.ndarray"
      ]
     },
     "execution_count": 23,
     "metadata": {},
     "output_type": "execute_result"
    }
   ],
   "source": [
    "type(x_train)"
   ]
  },
  {
   "cell_type": "code",
   "execution_count": 26,
   "metadata": {
    "scrolled": true
   },
   "outputs": [
    {
     "data": {
      "text/plain": [
       "array([  2.11290000e+01,   2.95700000e+01,   1.44710000e+02,\n",
       "         2.35550000e+03,   1.10770000e-01,   3.26020000e-01,\n",
       "         4.26400000e-01,   1.91300000e-01,   1.98000000e-01,\n",
       "         4.74800000e-02,   2.75770000e+00,   4.52480000e+00,\n",
       "         2.12230000e+01,   5.18798000e+02,   2.94170000e-02,\n",
       "         1.04148000e-01,   3.96000000e-01,   5.27900000e-02,\n",
       "         7.10680000e-02,   2.89452000e-02,   2.52000000e+01,\n",
       "         3.75200000e+01,   1.78890000e+02,   3.04880000e+03,\n",
       "         1.51430000e-01,   1.03071000e+00,   1.25200000e+00,\n",
       "         2.91000000e-01,   5.07300000e-01,   1.52460000e-01])"
      ]
     },
     "execution_count": 26,
     "metadata": {},
     "output_type": "execute_result"
    }
   ],
   "source": [
    "import numpy as np\n",
    "np.ptp(x_train, axis=0)"
   ]
  },
  {
   "cell_type": "code",
   "execution_count": 27,
   "metadata": {
    "scrolled": true
   },
   "outputs": [
    {
     "data": {
      "text/plain": [
       "array([  433.996558 ,  1747.994185 ,   773.398303 ,   745.29803  ,\n",
       "        1622.996663 ,  1645.996609 ,   533.995179 ,  1492.997275 ,\n",
       "         439.597287 ,   483.098339 ,   896.994588 ,  1739.996789 ,\n",
       "        1297.992455 ,   435.897705 ,  2144.997392 ,   275.596075 ,\n",
       "         656.995132 ,  1659.99488  ,  1656.998411 ,  1436.997444 ,\n",
       "        1409.998913 ,   491.797216 ,   567.69089  ,   575.994769 ,\n",
       "         546.696293 ,   505.597023 ,  1808.997311 ,   909.394    ,\n",
       "         782.09848  ,   476.096279 ,   777.497832 ,   532.79747  ,\n",
       "         522.897728 ,   741.594918 ,   799.595978 ,   783.598188 ,\n",
       "        2021.997795 ,   564.197516 ,   701.896253 ,   605.797711 ,\n",
       "         931.39825  ,  1029.998371 ,   623.697387 ,   515.296187 ,\n",
       "         808.896751 ,   708.797504 ,   825.997305 ,   547.398142 ,\n",
       "        2476.997744 ,   876.496998 ,  1730.997502 ,   766.897472 ,\n",
       "         660.197213 ,   630.497575 ,   705.597015 ,   993.598132 ,\n",
       "         907.196683 ,  1687.996603 ,   623.996593 ,   590.995933 ,\n",
       "         784.695688 ,  1871.997113 ,  1622.994013 ,   506.197614 ,\n",
       "         303.8      ,  1749.996067 ,   697.693571 ,   939.693645 ,\n",
       "         740.396813 ,   711.392851 ,   677.296521 ,   545.195857 ,\n",
       "        1069.996879 ,  1749.995589 ,   533.098568 ,   297.092123 ,\n",
       "         249.78978  ,  1647.995583 ,   980.895606 ,   513.896326 ,\n",
       "        1539.996712 ,  1358.995768 ,   547.395795 ,  2397.998003 ,\n",
       "        1605.997821 ,   507.193146 ,   411.091687 ,   645.793989 ,\n",
       "         521.498329 ,   896.896289 ,  1759.996273 ,  1320.996101 ,\n",
       "         699.398183 ,   725.898292 ,   421.097623 ,   687.598328 ,\n",
       "         595.596304 ,  1985.994805 ,  1420.998193 ,   467.195216 ,\n",
       "         285.497847 ,   553.597242 ,  1083.9983   ,  1020.98744  ,\n",
       "         580.898028 ,   512.497449 ,   328.08852  ,  1779.998094 ,\n",
       "         466.697854 ,   543.894939 ,   402.79644  ,   856.896763 ,\n",
       "         688.596401 ,  1925.994748 ,  1602.996245 ,   300.190217 ,\n",
       "        2498.995524 ,  3233.996615 ,   349.897732 ,   622.097152 ,\n",
       "         368.594047 ,  1034.996641 ,   516.498231 ,   763.996411 ,\n",
       "         380.197021 ,   439.6      ,   708.796044 ,   803.697107 ,\n",
       "         733.495758 ,   467.596386 ,  1149.996958 ,   472.893337 ,\n",
       "         607.298459 ,   971.397113 ,   396.495215 ,  1268.997033 ,\n",
       "         809.69421  ,   544.297778 ,   546.698275 ,   474.195262 ,\n",
       "         564.898634 ,   600.493285 ,   515.897039 ,   579.697867 ,\n",
       "        1226.996258 ,   643.798113 ,   728.296244 ,   314.897032 ,\n",
       "         628.498486 ,   395.397183 ,   185.2      ,   574.398216 ,\n",
       "         330.695763 ,   661.496991 ,   520.496661 ,  1670.995714 ,\n",
       "        1407.997241 ,   663.497926 ,  2359.994963 ,   521.69616  ,\n",
       "         259.2      ,   359.39541  ,  1228.997335 ,   478.598783 ,\n",
       "        1348.996664 ,   374.393208 ,   758.197129 ,   915.29267  ,\n",
       "         527.197365 ,   639.094499 ,   809.194556 ,   729.797417 ,\n",
       "         812.39687  ,  1460.992556 ,   811.295232 ,   403.695387 ,\n",
       "        2641.99524  ,   472.397299 ,   574.695537 ,   632.095924 ,\n",
       "         745.497192 ,   656.697449 ,   591.695365 ,   725.898024 ,\n",
       "        2080.995972 ,  1361.996267 ,   562.597246 ,   366.295508 ,\n",
       "         922.79767  ,  1101.995832 ,   543.39864  ,   869.297154 ,\n",
       "         390.18714  ,   705.996913 ,  2614.998013 ,   711.1977   ,\n",
       "        1723.996554 ,  1209.998691 ,   830.497783 ,  1644.997281 ,\n",
       "         472.396998 ,  1087.996869 ,   342.9      ,   567.596117 ,\n",
       "         492.6990263,   550.597329 ,   331.597528 ,   597.497843 ,\n",
       "        1225.993958 ,   828.497256 ,  1043.998024 ,  2383.995386 ,\n",
       "         621.198044 ,   595.697199 ,   357.093242 ,   223.592449 ,\n",
       "        1120.997211 ,   439.997083 ,  1534.995633 ,  1566.996465 ,\n",
       "         544.198656 ,   475.698018 ,  1574.994885 ,   629.598657 ,\n",
       "         549.796787 ,  1303.994901 ,   698.798044 ,   326.596099 ,\n",
       "        1343.996146 ,   636.898872 ,   489.498012 ,  1155.997539 ,\n",
       "         488.394958 ,   469.998165 ,   639.295802 ,   380.48903  ,\n",
       "         827.192902 ,   830.497673 ,   740.69828  ,   269.994399 ,\n",
       "        1843.998108 ,   489.796589 ,   981.195416 ,   677.896414 ,\n",
       "        1283.996261 ,   928.197431 ,   558.9      ,   624.096371 ,\n",
       "        1484.997549 ,  3215.997253 ,   739.296251 ,   689.09677  ,\n",
       "         546.297078 ,   240.1      ,   476.395024 ,   830.998781 ,\n",
       "         586.79882  ,   546.093281 ,   943.194534 ,  1152.995494 ,\n",
       "        2781.997103 ,   669.998407 ,  2561.994107 ,   632.898172 ,\n",
       "         273.896952 ,   653.294472 ,   739.098874 ,   364.195846 ,\n",
       "        1680.99418  ,   394.497629 ,   553.698608 ,   749.897524 ,\n",
       "         552.297682 ,   787.993005 ,   566.895586 ,   582.996144 ,\n",
       "         686.597082 ,  1235.998324 ,   819.098233 ,   787.898714 ,\n",
       "         457.998513 ,  1820.993815 ,   672.397727 ,   749.99717  ,\n",
       "         750.09544  ,   670.597823 ,  1971.99745  ,  1268.99757  ,\n",
       "         698.798246 ,   376.297926 ,   686.498476 ,   496.196886 ,\n",
       "         706.597436 ,  1589.997795 ,  1627.998035 ,  2402.99626  ,\n",
       "        1872.995555 ,   570.696649 ,   576.997919 ,   545.898223 ,\n",
       "         579.495429 ,   529.895595 ,   966.998282 ,   521.298341 ,\n",
       "         808.196796 ,   840.7991052,   467.798048 ,   648.297299 ,\n",
       "         585.395274 ,   718.897905 ,   471.397802 ,   475.796991 ,\n",
       "        2231.996682 ,   675.197536 ,  1695.994072 ,   591.194285 ,\n",
       "        1049.995133 ,  2214.997199 ,   925.096776 ,   413.99788  ,\n",
       "         616.698467 ,   848.698535 ,   407.496466 ,   459.297072 ,\n",
       "         621.896371 ,  1708.995429 ,   527.797872 ,   410.39239  ,\n",
       "        1221.997638 ,   585.6992071,   734.598108 ,   803.595159 ,\n",
       "        2026.995761 ,   549.097752 ,   862.096627 ,   694.397913 ,\n",
       "         674.696701 ,   583.097935 ,   880.797217 ,   457.794488 ,\n",
       "        1548.99543  ,   375.596239 ,   830.897858 ,   476.497789 ,\n",
       "         380.895775 ,  1232.996566 ,  1650.993452 ,   684.598619 ,\n",
       "         361.19643  ,  1271.994016 ,   248.       ,   383.997222 ,\n",
       "         567.897393 ,   698.698434 ,   767.292238 ,   759.396357 ,\n",
       "         551.99752  ,   706.694696 ,   274.897212 ,   436.998403 ,\n",
       "         533.697995 ,  2943.996947 ,   496.696463 ,   605.493836 ,\n",
       "         829.498029 ,   705.994383 ,   268.6      ,   809.797185 ,\n",
       "        1030.995919 ,   830.598565 ,   624.099308 ,   688.897896 ,\n",
       "         819.698043 ,   547.798468 ,  1655.997635 ,   762.595016 ,\n",
       "         440.798381 ,   461.998412 ,   793.698294 ,  1238.997342 ,\n",
       "        1094.996116 ,   284.38279  ,   300.995417 ,  1865.998302 ,\n",
       "         873.198537 ,   914.995375 ,   608.7990317,  2088.995747 ,\n",
       "        1494.996638 ,   760.198221 ,   554.898094 ,   808.893889 ,\n",
       "         510.497794 ,   528.094783 ,   502.996474 ,   523.398816 ,\n",
       "         523.695698 ,  2905.996882 ,  1024.99648  ,   768.894328 ,\n",
       "         470.897466 ,   988.598655 ,   531.195225 ,   561.996929 ,\n",
       "         366.09475  ,   424.796682 ,   518.097523 ,   310.094178 ,\n",
       "         580.592766 ,   749.896437 ,   624.59804  ,   601.99775  ,\n",
       "         525.096024 ,   353.595969 ,  1669.99544  ,   611.097696 ,\n",
       "         324.690451 ,   749.097674 ,   508.095565 ,   384.897394 ,\n",
       "         487.694176 ,   559.498202 ,  1298.995856 ,   457.497183 ,\n",
       "         826.397374 ,   385.196087 ])"
      ]
     },
     "execution_count": 27,
     "metadata": {},
     "output_type": "execute_result"
    }
   ],
   "source": [
    "np.ptp(x_train, axis=1)"
   ]
  },
  {
   "cell_type": "code",
   "execution_count": 28,
   "metadata": {},
   "outputs": [],
   "source": [
    "# Apply to data\n",
    "x_train = scaler.transform(x_train)\n",
    "x_test = scaler.transform(x_test)"
   ]
  },
  {
   "cell_type": "code",
   "execution_count": 29,
   "metadata": {},
   "outputs": [
    {
     "data": {
      "text/plain": [
       "array([  6.07798361,   6.71318781,   6.04266658,   6.80324506,\n",
       "         7.66660352,   6.19632429,   5.45495902,   4.96321577,\n",
       "         7.07628703,   6.5864779 ,  10.54949836,   8.18053343,\n",
       "        11.0963907 ,  12.99287432,   9.85129027,   6.10467024,\n",
       "        12.71398381,   8.71833654,   8.47819085,  10.71360459,\n",
       "         5.31802447,   5.97206101,   5.41735992,   5.57639366,\n",
       "         6.51623523,   6.47779501,   5.95278368,   4.41281141,\n",
       "         8.07617523,   8.34608678])"
      ]
     },
     "execution_count": 29,
     "metadata": {},
     "output_type": "execute_result"
    }
   ],
   "source": [
    "np.ptp(x_train, axis=0)"
   ]
  },
  {
   "cell_type": "code",
   "execution_count": 30,
   "metadata": {
    "scrolled": true
   },
   "outputs": [
    {
     "data": {
      "text/plain": [
       "array([  3.02800074,   3.76443263,   1.28141253,   1.99969992,\n",
       "         2.81475826,   2.85681885,   2.7795653 ,   1.80476981,\n",
       "         2.27087263,   1.90619945,   2.38118391,   2.41190828,\n",
       "         3.98152566,   1.42193835,   2.78333212,   2.93815461,\n",
       "         2.01318448,   3.82964652,   3.45297961,   2.99505799,\n",
       "         2.60319158,   1.31768689,   6.71105419,   2.74057429,\n",
       "         4.20833994,   2.48268765,   2.9817679 ,   1.98628087,\n",
       "         1.66959011,   3.31527688,   1.23836481,   1.26898116,\n",
       "         1.76325908,   3.03506212,   1.59889165,   1.87655162,\n",
       "         3.340201  ,   1.29084493,   1.20776053,   1.70527165,\n",
       "         3.75958427,   2.07414459,   1.43724212,   2.08652376,\n",
       "         2.69168356,   0.8916276 ,   1.65700539,   1.54914171,\n",
       "         4.46964449,   2.67290664,   3.27389392,   1.64311137,\n",
       "         1.91994506,   1.72763756,   4.13272817,   1.49602947,\n",
       "         2.06155913,   2.9732742 ,   2.2759863 ,   2.1844625 ,\n",
       "         2.2707461 ,   3.21393848,   6.14495753,   2.44003378,\n",
       "         9.25499039,   3.43303913,   3.96357379,   2.18852515,\n",
       "         2.844852  ,   7.26721318,   2.40603734,   2.2664857 ,\n",
       "         2.14240181,   2.66001356,   2.52475579,   4.85899541,\n",
       "         5.22732078,   2.19703748,   3.95347591,   1.9463751 ,\n",
       "         2.82502717,   1.76265676,   2.56142549,   4.03124204,\n",
       "         2.31220446,   4.20465552,   3.29649572,   3.13477152,\n",
       "         1.11534723,   3.43467391,   3.0503725 ,   2.7142174 ,\n",
       "         1.36544176,   1.06939963,   1.22597933,   1.37182871,\n",
       "         2.97338623,   3.46207455,   2.89801233,   3.18143719,\n",
       "         2.61422346,   3.05627324,   4.32195051,  10.14858493,\n",
       "         2.00638561,   1.91756731,   6.343951  ,   2.86835185,\n",
       "         1.84383313,   2.27628656,   4.06547111,   1.99802314,\n",
       "         1.60041809,   2.55396981,   1.91371074,   6.12536566,\n",
       "        14.19387779,   5.00956312,   3.2698889 ,   0.84928761,\n",
       "         4.68897071,   5.0349851 ,   1.68987533,   4.00184014,\n",
       "         2.68402317,   7.48852706,   1.46521861,   1.98038455,\n",
       "         2.55316523,   1.62327537,   2.2898075 ,   3.30639921,\n",
       "         1.28487392,   4.41790236,   4.25750085,   2.83815005,\n",
       "         3.49626299,   1.72396411,   1.11064142,   4.52282451,\n",
       "         1.92652811,   2.17071195,   3.8447265 ,   0.90007056,\n",
       "         2.0070683 ,   1.85616664,   2.08473153,   2.48826204,\n",
       "         2.48208029,   1.76405055,   4.16869399,   1.32952693,\n",
       "         2.74107594,   2.62512941,   1.69387997,   2.67598841,\n",
       "         5.51869789,   0.99782839,   4.49674616,   2.2575711 ,\n",
       "         2.71826034,   4.32581315,   3.99265067,   1.61202272,\n",
       "         2.02078654,   3.13922412,   2.14264121,   4.42913968,\n",
       "         1.29863474,   3.81197563,   2.82377546,   1.68055476,\n",
       "         2.14547832,   5.11312721,   3.11182924,   2.86103089,\n",
       "         4.11664013,   2.07357429,   1.36007324,   2.34282298,\n",
       "         2.84394072,   1.49333419,   5.22626206,   1.43143292,\n",
       "         3.39111876,   2.1564559 ,   1.27106459,   3.86705544,\n",
       "         1.68922132,   3.69661957,   1.32680308,   2.22042107,\n",
       "         6.44513434,   2.69044622,   4.59044859,   1.6112145 ,\n",
       "         2.69474126,   3.17971223,   1.27468629,   3.0771164 ,\n",
       "         3.69329927,   2.48516449,   2.27633028,   3.7845836 ,\n",
       "         1.36060326,   2.01747485,   2.12731262,   2.00096527,\n",
       "         3.60189424,   1.63258335,   3.99041926,   3.61143013,\n",
       "         1.50884043,   3.24750364,   4.5890882 ,   4.67235895,\n",
       "         2.01816331,   1.84933776,   3.08177711,   3.2269994 ,\n",
       "         1.65572011,   1.82272572,   3.3267782 ,   3.0826083 ,\n",
       "         1.83211043,   3.82865095,   1.8089151 ,   4.20760229,\n",
       "         2.06359229,   1.53329407,   2.3775428 ,   1.74601051,\n",
       "         3.49049437,   1.22261995,   2.72680668,  12.9539883 ,\n",
       "         3.94820492,   1.699512  ,   2.48176301,   5.79075648,\n",
       "         3.11205331,   1.50810266,   1.9387647 ,   0.9124497 ,\n",
       "         2.75201387,   2.01002454,   6.3018993 ,   1.77103763,\n",
       "         2.41858164,   5.41781812,   2.77491808,   1.72614639,\n",
       "         0.89367694,   6.81610826,   2.39344045,   1.58085751,\n",
       "         1.4060657 ,   2.4833987 ,   3.2160396 ,   4.02020979,\n",
       "         4.68245882,   2.02207462,   4.72404379,   2.33542344,\n",
       "         3.49320966,   4.4432628 ,   1.24915782,   1.51883652,\n",
       "         3.67621598,   2.01308441,   1.33176768,   1.55705709,\n",
       "         1.96980041,   2.16674372,   2.20732173,   1.66855368,\n",
       "         1.97093362,   3.1487543 ,   1.92569032,   1.9525071 ,\n",
       "         2.09178947,   4.02230352,   1.34566908,   1.17954308,\n",
       "         1.7430772 ,   1.97475542,   3.0930868 ,   2.13482092,\n",
       "         5.25889095,   1.84436102,   1.45926365,   3.62244742,\n",
       "         1.57595473,   2.10882618,   2.34435988,   4.00897831,\n",
       "         2.21380061,   2.29498164,   1.5307824 ,   3.54548806,\n",
       "         3.24563459,   1.67664901,   1.42835801,   2.63621073,\n",
       "         2.00833273,   1.62829627,   2.83670005,   2.05094733,\n",
       "         1.69703944,   1.98507876,   1.67798514,   1.83803887,\n",
       "         3.4805382 ,   1.52047838,   2.52565479,   1.67573733,\n",
       "         2.03003782,   3.15710471,   1.69262662,   2.66819711,\n",
       "         3.69303282,   2.53984729,   1.81326679,   2.65195756,\n",
       "         2.41100894,   2.85670962,   3.00467863,   2.39719756,\n",
       "         2.01595394,   1.69986582,   3.59005194,   2.35487133,\n",
       "         4.34926475,   2.16658   ,   1.35206859,   1.60814061,\n",
       "         2.43909591,   0.86498302,   1.83022983,   2.82722935,\n",
       "         1.81360441,   1.98610529,   1.83661752,   2.96453397,\n",
       "         3.86301792,   1.50407623,   4.83936059,   2.29756208,\n",
       "         2.2099004 ,   2.93729188,   3.82406966,   2.58002615,\n",
       "         1.80458159,   1.65844994,   8.48451775,   2.58386744,\n",
       "         2.03184489,   2.82074645,   3.45549199,   4.047074  ,\n",
       "         2.39735335,   4.34493662,   1.749     ,   4.37056864,\n",
       "         2.20692098,   2.65338169,   4.23258616,   1.15647734,\n",
       "         2.26789   ,   1.63271606,   1.72991478,   1.24131082,\n",
       "         2.18719075,   2.32462492,   4.38511036,   2.99106093,\n",
       "         2.18981614,   0.87463722,   1.33058944,   2.30954094,\n",
       "         2.9715547 ,   8.34403784,   2.51122322,   2.97164087,\n",
       "         2.38059606,   5.07193239,   3.02206987,   4.32931838,\n",
       "         4.22214816,   1.52191461,   1.4719863 ,   1.86111456,\n",
       "         2.87962844,   3.24744178,   2.1491163 ,   1.21800792,\n",
       "         2.87352962,   4.80641669,   2.1343938 ,   2.65214811,\n",
       "         4.70042093,   2.33056605,   1.64732761,   1.18470621,\n",
       "         3.10200207,   2.73474407,   2.74401806,   4.02989567,\n",
       "         3.68294161,   2.33498481,   1.3158386 ,   2.365417  ,\n",
       "         2.51136447,   2.45224734,   2.22014275,   0.48473316,\n",
       "        10.19575112,   1.8737908 ,   5.16191417,   1.65260498,\n",
       "         2.66939808,   1.54654528,   2.37116445,   1.6704052 ,\n",
       "         2.53489467,   2.81242777])"
      ]
     },
     "execution_count": 30,
     "metadata": {},
     "output_type": "execute_result"
    }
   ],
   "source": [
    "np.ptp(x_train, axis=1)"
   ]
  },
  {
   "cell_type": "code",
   "execution_count": 31,
   "metadata": {},
   "outputs": [
    {
     "data": {
      "text/plain": [
       "DescribeResult(nobs=426, minmax=(array([-2.03179637, -2.16808102, -1.98727515, -1.45126444, -3.03385706,\n",
       "       -1.59643001, -1.11229971, -1.25087541, -2.65674527, -1.77781186,\n",
       "       -1.06414425, -1.56070631, -1.06023343, -0.78685262, -1.76220107,\n",
       "       -1.31668694, -1.00072486, -1.92029273, -1.49587285, -1.04743623,\n",
       "       -1.73390177, -2.1866007 , -1.69608472, -1.24038432, -2.63516326,\n",
       "       -1.41375269, -1.2779906 , -1.72195931, -2.11999142, -1.57008766]), array([  4.04618724,   4.54510679,   4.05539142,   5.35198063,\n",
       "         4.63274646,   4.59989427,   4.34265931,   3.71234036,\n",
       "         4.41954176,   4.80866604,   9.4853541 ,   6.61982713,\n",
       "        10.03615728,  12.2060217 ,   8.0890892 ,   4.7879833 ,\n",
       "        11.71325895,   6.79804381,   6.982318  ,   9.66616837,\n",
       "         3.5841227 ,   3.78546031,   3.7212752 ,   4.33600934,\n",
       "         3.88107196,   5.06404232,   4.67479309,   2.6908521 ,\n",
       "         5.95618381,   6.77599912])), mean=array([ -1.27388971e-15,  -1.54545130e-15,   1.94419337e-15,\n",
       "        -2.50712336e-16,  -6.39120994e-15,  -7.45621613e-16,\n",
       "        -8.82966105e-16,   1.12351443e-15,  -7.16589021e-15,\n",
       "        -5.65601296e-16,   8.33155923e-17,   1.07451867e-15,\n",
       "        -1.56923249e-16,   8.92869503e-16,   1.00539035e-15,\n",
       "        -4.58813999e-16,   7.46468615e-16,   3.54567705e-16,\n",
       "         9.98353721e-16,  -5.25987704e-16,   7.24511739e-16,\n",
       "         9.37068302e-16,   1.79824856e-16,  -3.21339199e-16,\n",
       "        -2.62739752e-15,  -8.86614725e-16,  -7.02880633e-16,\n",
       "        -8.05042001e-16,   2.89335587e-15,  -5.06562059e-15]), variance=array([ 1.00235294,  1.00235294,  1.00235294,  1.00235294,  1.00235294,\n",
       "        1.00235294,  1.00235294,  1.00235294,  1.00235294,  1.00235294,\n",
       "        1.00235294,  1.00235294,  1.00235294,  1.00235294,  1.00235294,\n",
       "        1.00235294,  1.00235294,  1.00235294,  1.00235294,  1.00235294,\n",
       "        1.00235294,  1.00235294,  1.00235294,  1.00235294,  1.00235294,\n",
       "        1.00235294,  1.00235294,  1.00235294,  1.00235294,  1.00235294]), skewness=array([ 1.02631454,  0.73728   ,  1.07155521,  1.71552216,  0.43180091,\n",
       "        1.21624311,  1.41196947,  1.18368683,  0.74616199,  1.46454629,\n",
       "        3.15862036,  1.75394717,  3.57957154,  5.29734915,  2.54294084,\n",
       "        1.73985998,  5.80086481,  1.47775274,  2.39312723,  4.47096698,\n",
       "        1.13495805,  0.50807384,  1.150271  ,  1.71325433,  0.48060642,\n",
       "        1.50344061,  1.23653292,  0.53541851,  1.30197197,  1.83808874]), kurtosis=array([  1.14363209,   0.88717705,   1.2324079 ,   3.75554852,\n",
       "         0.84167876,   1.90063846,   2.10053841,   1.03757578,\n",
       "         1.43124568,   3.57415256,  19.66656826,   6.03833897,\n",
       "        24.77561094,  52.02709692,  12.48372966,   3.89799378,\n",
       "        56.41450234,   5.81545852,   9.23120445,  31.42957608,\n",
       "         0.8962432 ,   0.15890802,   0.96720732,   2.88921162,\n",
       "         0.68115459,   3.1666571 ,   2.00508143,  -0.52429545,\n",
       "         4.24058272,   6.43253814]))"
      ]
     },
     "execution_count": 31,
     "metadata": {},
     "output_type": "execute_result"
    }
   ],
   "source": [
    "from scipy import stats\n",
    "stats.describe(x_train)"
   ]
  },
  {
   "cell_type": "markdown",
   "metadata": {},
   "source": [
    "### Training Time"
   ]
  },
  {
   "cell_type": "code",
   "execution_count": 32,
   "metadata": {},
   "outputs": [],
   "source": [
    "# import estimator \n",
    "from sklearn.neural_network import MLPClassifier"
   ]
  },
  {
   "cell_type": "markdown",
   "metadata": {},
   "source": [
    "### Create instance of the model\n",
    "- Here just define hidden_layer_sizes parameter\n",
    "    - Takes a tuple of \n",
    "        - Number of neurons wanted at each layer\n",
    "        - the nth entry in the tuple represents the number of neurons in the nth layer of the model\n",
    "\n",
    "- here define 3 layers with same number of neurons as features in data set\n",
    "    - In the Description above, stated 'Number of Attributes: 30 numeric, predictive attributes and the class'"
   ]
  },
  {
   "cell_type": "code",
   "execution_count": 33,
   "metadata": {},
   "outputs": [],
   "source": [
    "mlp = MLPClassifier(hidden_layer_sizes=(30,30,30))"
   ]
  },
  {
   "cell_type": "code",
   "execution_count": 34,
   "metadata": {},
   "outputs": [
    {
     "data": {
      "text/plain": [
       "MLPClassifier(activation='relu', alpha=0.0001, batch_size='auto', beta_1=0.9,\n",
       "       beta_2=0.999, early_stopping=False, epsilon=1e-08,\n",
       "       hidden_layer_sizes=(30, 30, 30), learning_rate='constant',\n",
       "       learning_rate_init=0.001, max_iter=200, momentum=0.9,\n",
       "       nesterovs_momentum=True, power_t=0.5, random_state=None,\n",
       "       shuffle=True, solver='adam', tol=0.0001, validation_fraction=0.1,\n",
       "       verbose=False, warm_start=False)"
      ]
     },
     "execution_count": 34,
     "metadata": {},
     "output_type": "execute_result"
    }
   ],
   "source": [
    "# now fit data to the model \n",
    "mlp.fit(x_train, y_train)"
   ]
  },
  {
   "cell_type": "markdown",
   "metadata": {},
   "source": [
    "Output above shows other params and their default values"
   ]
  },
  {
   "cell_type": "code",
   "execution_count": 35,
   "metadata": {},
   "outputs": [],
   "source": [
    "mlp.fit?"
   ]
  },
  {
   "cell_type": "markdown",
   "metadata": {},
   "source": [
    "### Predictions & Evaluation"
   ]
  },
  {
   "cell_type": "code",
   "execution_count": 36,
   "metadata": {},
   "outputs": [],
   "source": [
    "predictions = mlp.predict(x_test)"
   ]
  },
  {
   "cell_type": "code",
   "execution_count": 37,
   "metadata": {},
   "outputs": [
    {
     "name": "stdout",
     "output_type": "stream",
     "text": [
      "[[60  1]\n",
      " [ 3 79]]\n"
     ]
    }
   ],
   "source": [
    "from sklearn.metrics import classification_report,confusion_matrix\n",
    "print(confusion_matrix(y_test,predictions))"
   ]
  },
  {
   "cell_type": "code",
   "execution_count": 38,
   "metadata": {},
   "outputs": [
    {
     "name": "stdout",
     "output_type": "stream",
     "text": [
      "             precision    recall  f1-score   support\n",
      "\n",
      "          0       0.95      0.98      0.97        61\n",
      "          1       0.99      0.96      0.98        82\n",
      "\n",
      "avg / total       0.97      0.97      0.97       143\n",
      "\n"
     ]
    }
   ],
   "source": [
    "print(classification_report(y_test,predictions))"
   ]
  },
  {
   "cell_type": "markdown",
   "metadata": {},
   "source": [
    "Result is 97% accuracy, not too shabby"
   ]
  },
  {
   "cell_type": "markdown",
   "metadata": {},
   "source": [
    "### Notes\n",
    "- Downside of MLP is hard to interpret model itself\n",
    "    - Weights and biases are not easily interpretable in relation to which features are important to the model"
   ]
  },
  {
   "cell_type": "code",
   "execution_count": 39,
   "metadata": {},
   "outputs": [
    {
     "data": {
      "text/plain": [
       "4"
      ]
     },
     "execution_count": 39,
     "metadata": {},
     "output_type": "execute_result"
    }
   ],
   "source": [
    "# Extraction of public attributes\n",
    "len(mlp.coefs_)"
   ]
  },
  {
   "cell_type": "code",
   "execution_count": 40,
   "metadata": {},
   "outputs": [
    {
     "data": {
      "text/plain": [
       "30"
      ]
     },
     "execution_count": 40,
     "metadata": {},
     "output_type": "execute_result"
    }
   ],
   "source": [
    "len(mlp.coefs_[0])"
   ]
  },
  {
   "cell_type": "code",
   "execution_count": 41,
   "metadata": {},
   "outputs": [
    {
     "data": {
      "text/plain": [
       "30"
      ]
     },
     "execution_count": 41,
     "metadata": {},
     "output_type": "execute_result"
    }
   ],
   "source": [
    "len(mlp.intercepts_[0])"
   ]
  },
  {
   "cell_type": "code",
   "execution_count": null,
   "metadata": {},
   "outputs": [],
   "source": []
  }
 ],
 "metadata": {
  "kernelspec": {
   "display_name": "Python 3",
   "language": "python",
   "name": "python3"
  },
  "language_info": {
   "codemirror_mode": {
    "name": "ipython",
    "version": 3
   },
   "file_extension": ".py",
   "mimetype": "text/x-python",
   "name": "python",
   "nbconvert_exporter": "python",
   "pygments_lexer": "ipython3",
   "version": "3.6.5"
  }
 },
 "nbformat": 4,
 "nbformat_minor": 2
}
