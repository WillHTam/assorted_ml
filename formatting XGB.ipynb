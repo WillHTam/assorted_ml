{
 "cells": [
  {
   "cell_type": "markdown",
   "metadata": {},
   "source": [
    "#  Formatting Data for XGBoostin' \n",
    "\n",
    "1. Encoding string output variables for classification\n",
    "2. Preparing categorical input variables using one hot encoding\n",
    "3. Automatically handle missing data"
   ]
  },
  {
   "cell_type": "code",
   "execution_count": 5,
   "metadata": {},
   "outputs": [
    {
     "name": "stderr",
     "output_type": "stream",
     "text": [
      "/Users/William/anaconda/lib/python3.6/site-packages/sklearn/cross_validation.py:41: DeprecationWarning: This module was deprecated in version 0.18 in favor of the model_selection module into which all the refactored classes and functions are moved. Also note that the interface of the new CV iterators are different from that of this module. This module will be removed in 0.20.\n",
      "  \"This module will be removed in 0.20.\", DeprecationWarning)\n"
     ]
    }
   ],
   "source": [
    "import pandas as pd\n",
    "import numpy as np\n",
    "import xgboost as xgb\n",
    "\n",
    "from sklearn import model_selection\n",
    "from sklearn.metrics import accuracy_score\n",
    "from sklearn.preprocessing import LabelEncoder\n",
    "from sklearn.cross_validation import train_test_split"
   ]
  },
  {
   "cell_type": "markdown",
   "metadata": {},
   "source": [
    "## 1 - Label Encode String Classes"
   ]
  },
  {
   "cell_type": "code",
   "execution_count": 2,
   "metadata": {},
   "outputs": [
    {
     "data": {
      "text/html": [
       "<div>\n",
       "<style scoped>\n",
       "    .dataframe tbody tr th:only-of-type {\n",
       "        vertical-align: middle;\n",
       "    }\n",
       "\n",
       "    .dataframe tbody tr th {\n",
       "        vertical-align: top;\n",
       "    }\n",
       "\n",
       "    .dataframe thead th {\n",
       "        text-align: right;\n",
       "    }\n",
       "</style>\n",
       "<table border=\"1\" class=\"dataframe\">\n",
       "  <thead>\n",
       "    <tr style=\"text-align: right;\">\n",
       "      <th></th>\n",
       "      <th>0</th>\n",
       "      <th>1</th>\n",
       "      <th>2</th>\n",
       "      <th>3</th>\n",
       "      <th>4</th>\n",
       "    </tr>\n",
       "  </thead>\n",
       "  <tbody>\n",
       "    <tr>\n",
       "      <th>0</th>\n",
       "      <td>5.1</td>\n",
       "      <td>3.5</td>\n",
       "      <td>1.4</td>\n",
       "      <td>0.2</td>\n",
       "      <td>Iris-setosa</td>\n",
       "    </tr>\n",
       "    <tr>\n",
       "      <th>1</th>\n",
       "      <td>4.9</td>\n",
       "      <td>3.0</td>\n",
       "      <td>1.4</td>\n",
       "      <td>0.2</td>\n",
       "      <td>Iris-setosa</td>\n",
       "    </tr>\n",
       "    <tr>\n",
       "      <th>2</th>\n",
       "      <td>4.7</td>\n",
       "      <td>3.2</td>\n",
       "      <td>1.3</td>\n",
       "      <td>0.2</td>\n",
       "      <td>Iris-setosa</td>\n",
       "    </tr>\n",
       "    <tr>\n",
       "      <th>3</th>\n",
       "      <td>4.6</td>\n",
       "      <td>3.1</td>\n",
       "      <td>1.5</td>\n",
       "      <td>0.2</td>\n",
       "      <td>Iris-setosa</td>\n",
       "    </tr>\n",
       "    <tr>\n",
       "      <th>4</th>\n",
       "      <td>5.0</td>\n",
       "      <td>3.6</td>\n",
       "      <td>1.4</td>\n",
       "      <td>0.2</td>\n",
       "      <td>Iris-setosa</td>\n",
       "    </tr>\n",
       "  </tbody>\n",
       "</table>\n",
       "</div>"
      ],
      "text/plain": [
       "     0    1    2    3            4\n",
       "0  5.1  3.5  1.4  0.2  Iris-setosa\n",
       "1  4.9  3.0  1.4  0.2  Iris-setosa\n",
       "2  4.7  3.2  1.3  0.2  Iris-setosa\n",
       "3  4.6  3.1  1.5  0.2  Iris-setosa\n",
       "4  5.0  3.6  1.4  0.2  Iris-setosa"
      ]
     },
     "execution_count": 2,
     "metadata": {},
     "output_type": "execute_result"
    }
   ],
   "source": [
    "url = \"https://archive.ics.uci.edu/ml/machine-learning-databases/iris/iris.data\"\n",
    "dataset = pd.read_csv(url, header=None)\n",
    "dataset.head()"
   ]
  },
  {
   "cell_type": "code",
   "execution_count": 3,
   "metadata": {},
   "outputs": [],
   "source": [
    "dataval = dataset.values\n",
    "X = dataval[:, 0:4]\n",
    "Y = dataval[:, 4]"
   ]
  },
  {
   "cell_type": "code",
   "execution_count": 4,
   "metadata": {},
   "outputs": [],
   "source": [
    "label_encoder = LabelEncoder()\n",
    "label_encoder = label_encoder.fit(Y)\n",
    "label_encoded_y = label_encoder.transform(Y)"
   ]
  },
  {
   "cell_type": "code",
   "execution_count": 5,
   "metadata": {},
   "outputs": [
    {
     "data": {
      "text/plain": [
       "array([0, 0, 0, 0, 0, 0, 0, 0, 0, 0, 0, 0, 0, 0, 0, 0, 0, 0, 0, 0, 0, 0,\n",
       "       0, 0, 0, 0, 0, 0, 0, 0, 0, 0, 0, 0, 0, 0, 0, 0, 0, 0, 0, 0, 0, 0,\n",
       "       0, 0, 0, 0, 0, 0, 1, 1, 1, 1, 1, 1, 1, 1, 1, 1, 1, 1, 1, 1, 1, 1,\n",
       "       1, 1, 1, 1, 1, 1, 1, 1, 1, 1, 1, 1, 1, 1, 1, 1, 1, 1, 1, 1, 1, 1,\n",
       "       1, 1, 1, 1, 1, 1, 1, 1, 1, 1, 1, 1, 2, 2, 2, 2, 2, 2, 2, 2, 2, 2,\n",
       "       2, 2, 2, 2, 2, 2, 2, 2, 2, 2, 2, 2, 2, 2, 2, 2, 2, 2, 2, 2, 2, 2,\n",
       "       2, 2, 2, 2, 2, 2, 2, 2, 2, 2, 2, 2, 2, 2, 2, 2, 2, 2])"
      ]
     },
     "execution_count": 5,
     "metadata": {},
     "output_type": "execute_result"
    }
   ],
   "source": [
    "label_encoded_y"
   ]
  },
  {
   "cell_type": "code",
   "execution_count": 6,
   "metadata": {},
   "outputs": [],
   "source": [
    "seed = 7\n",
    "test_size = 0.33\n",
    "X_train, X_test, y_train, y_test = train_test_split(X, label_encoded_y)"
   ]
  },
  {
   "cell_type": "code",
   "execution_count": 7,
   "metadata": {},
   "outputs": [
    {
     "name": "stdout",
     "output_type": "stream",
     "text": [
      "XGBClassifier(base_score=0.5, booster='gbtree', colsample_bylevel=1,\n",
      "       colsample_bytree=1, gamma=0, learning_rate=0.1, max_delta_step=0,\n",
      "       max_depth=3, min_child_weight=1, missing=None, n_estimators=100,\n",
      "       n_jobs=1, nthread=None, objective='multi:softprob', random_state=0,\n",
      "       reg_alpha=0, reg_lambda=1, scale_pos_weight=1, seed=None,\n",
      "       silent=True, subsample=1)\n"
     ]
    }
   ],
   "source": [
    "model = xgb.XGBClassifier()\n",
    "model.fit(X_train, y_train)\n",
    "print(model)"
   ]
  },
  {
   "cell_type": "code",
   "execution_count": 8,
   "metadata": {},
   "outputs": [
    {
     "name": "stdout",
     "output_type": "stream",
     "text": [
      "Accuracy: 94.74%\n"
     ]
    },
    {
     "name": "stderr",
     "output_type": "stream",
     "text": [
      "/Users/William/anaconda/lib/python3.6/site-packages/sklearn/preprocessing/label.py:151: DeprecationWarning: The truth value of an empty array is ambiguous. Returning False, but in future this will result in an error. Use `array.size > 0` to check that an array is not empty.\n",
      "  if diff:\n"
     ]
    }
   ],
   "source": [
    "y_pred = model.predict(X_test)\n",
    "predictions = [round(value) for value in y_pred]\n",
    "\n",
    "# evaluate predictions\n",
    "accuracy = accuracy_score(y_test, predictions)\n",
    "print(\"Accuracy: %.2f%%\" % (accuracy * 100.0))"
   ]
  },
  {
   "cell_type": "markdown",
   "metadata": {},
   "source": [
    "XGBoost is configured to automatically model a multiclass classification problem using the multi:softprob objective, a variation on the softmax loss function to model class probabilities. This suggests that internally the output class is automatically converted into a one hot type encoding."
   ]
  },
  {
   "cell_type": "markdown",
   "metadata": {},
   "source": [
    "## 2 - One Hot Encoding Categorical Data"
   ]
  },
  {
   "cell_type": "code",
   "execution_count": 9,
   "metadata": {},
   "outputs": [],
   "source": [
    "from sklearn.preprocessing import OneHotEncoder"
   ]
  },
  {
   "cell_type": "markdown",
   "metadata": {},
   "source": [
    "To prevent XGBoost assuming that encoded integers have an ordinal relationship, use one-hot encoding"
   ]
  },
  {
   "cell_type": "code",
   "execution_count": null,
   "metadata": {},
   "outputs": [],
   "source": [
    "# encode string class values as integers\n",
    "label_encoder = LabelEncoder()\n",
    "label_encoder = label_encoder.fit(Y)\n",
    "label_encoded_y = label_encoder.transform(Y)"
   ]
  },
  {
   "cell_type": "code",
   "execution_count": null,
   "metadata": {},
   "outputs": [],
   "source": [
    "# encode string input values as integers\n",
    "features = []\n",
    "for i in range(0, X.shape[1]):\n",
    "    label_encoder = LabelEncoder()\n",
    "    feature = label_encoder.fit_transform(X[:,i])\n",
    "    features.append(feature)\n",
    "encoded_x = numpy.array(features)\n",
    "encoded_x = encoded_x.reshape(X.shape[0], X.shape[1])"
   ]
  },
  {
   "cell_type": "code",
   "execution_count": null,
   "metadata": {},
   "outputs": [],
   "source": [
    "feature = feature.reshape(X.shape[0], 1)\n",
    "onehot_encoder = OneHotEncoder(sparse=False)\n",
    "feature = onehot_encoder.fit_transform(feature)\n",
    "# encode string input values as integers\n",
    "encoded_x = None\n",
    "for i in range(0, X.shape[1]):\n",
    "    label_encoder = LabelEncoder()\n",
    "    feature = label_encoder.fit_transform(X[:,i])\n",
    "    feature = feature.reshape(X.shape[0], 1)\n",
    "    onehot_encoder = OneHotEncoder(sparse=False)\n",
    "    feature = onehot_encoder.fit_transform(feature)\n",
    "    if encoded_x is None:\n",
    "        encoded_x = feature\n",
    "    else:\n",
    "        encoded_x = numpy.concatenate((encoded_x, feature), axis=1)\n",
    "print(\"X shape: : \", encoded_x.shape)"
   ]
  },
  {
   "cell_type": "markdown",
   "metadata": {},
   "source": [
    "XGBoost framework chose the ‘binary:logistic‘ objective automatically, the right objective for this binary classification problem."
   ]
  },
  {
   "cell_type": "markdown",
   "metadata": {},
   "source": [
    "## 3 - Missing Values"
   ]
  },
  {
   "cell_type": "markdown",
   "metadata": {},
   "source": [
    "This horse colic dataset has 30% missing, so we must properly format the data.\n",
    "\n",
    "XGBoost was designed to work with sparse data, which is good"
   ]
  },
  {
   "cell_type": "code",
   "execution_count": 1,
   "metadata": {},
   "outputs": [
    {
     "name": "stdout",
     "output_type": "stream",
     "text": [
      "1. TItle: Horse Colic database\r\n",
      "\r\n",
      "2. Source Information\r\n",
      "   -- Creators: Mary McLeish & Matt Cecile\r\n",
      "\t  \tDepartment of Computer Science\r\n",
      "\t\tUniversity of Guelph\r\n",
      "\t\tGuelph, Ontario, Canada N1G 2W1\r\n",
      "\t\tmdmcleish@water.waterloo.edu\r\n",
      "   -- Donor:    Will Taylor (taylor@pluto.arc.nasa.gov)\r\n",
      "   -- Date:     8/6/89\r\n",
      "\r\n",
      "3. Past Usage:\r\n",
      "   -- Unknown\r\n",
      "\r\n",
      "4. Relevant Information:\r\n",
      "\r\n",
      "   -- 2 data files \r\n",
      "      -- horse-colic.data: 300 training instances\r\n",
      "      -- horse-colic.test: 68 test instances\r\n",
      "   -- Possible class attributes: 24 (whether lesion is surgical)\r\n",
      "     -- others include: 23, 25, 26, and 27\r\n",
      "   -- Many Data types: (continuous, discrete, and nominal)\r\n",
      "\r\n",
      "5. Number of Instances: 368 (300 for training, 68 for testing)\r\n",
      "\r\n",
      "6. Number of attributes: 28\r\n",
      "\r\n",
      "7. Attribute Information:\r\n",
      "\r\n",
      "  1:  surgery?\r\n",
      "          1 = Yes, it had surgery\r\n",
      "          2 = It was treated without surgery\r\n",
      "\r\n",
      "  2:  Age \r\n",
      "          1 = Adult horse\r\n",
      "          2 = Young (< 6 months)\r\n",
      "\r\n",
      "  3:  Hospital Number \r\n",
      "          - numeric id\r\n",
      "          - the case number assigned to the horse\r\n",
      "            (may not be unique if the horse is treated > 1 time)\r\n",
      "\r\n",
      "  4:  rectal temperature\r\n",
      "          - linear\r\n",
      "          - in degrees celsius.\r\n",
      "          - An elevated temp may occur due to infection.\r\n",
      "          - temperature may be reduced when the animal is in late shock\r\n",
      "          - normal temp is 37.8\r\n",
      "          - this parameter will usually change as the problem progresses\r\n",
      "               eg. may start out normal, then become elevated because of\r\n",
      "                   the lesion, passing back through the normal range as the\r\n",
      "                   horse goes into shock\r\n",
      "  5:  pulse \r\n",
      "          - linear\r\n",
      "          - the heart rate in beats per minute\r\n",
      "          - is a reflection of the heart condition: 30 -40 is normal for adults\r\n",
      "          - rare to have a lower than normal rate although athletic horses\r\n",
      "            may have a rate of 20-25\r\n",
      "          - animals with painful lesions or suffering from circulatory shock\r\n",
      "            may have an elevated heart rate\r\n",
      "\r\n",
      "  6:  respiratory rate\r\n",
      "          - linear\r\n",
      "          - normal rate is 8 to 10\r\n",
      "          - usefulness is doubtful due to the great fluctuations\r\n",
      "\r\n",
      "  7:  temperature of extremities\r\n",
      "          - a subjective indication of peripheral circulation\r\n",
      "          - possible values:\r\n",
      "               1 = Normal\r\n",
      "               2 = Warm\r\n",
      "               3 = Cool\r\n",
      "               4 = Cold\r\n",
      "          - cool to cold extremities indicate possible shock\r\n",
      "          - hot extremities should correlate with an elevated rectal temp.\r\n",
      "\r\n",
      "  8:  peripheral pulse\r\n",
      "          - subjective\r\n",
      "          - possible values are:\r\n",
      "               1 = normal\r\n",
      "               2 = increased\r\n",
      "               3 = reduced\r\n",
      "               4 = absent\r\n",
      "          - normal or increased p.p. are indicative of adequate circulation\r\n",
      "            while reduced or absent indicate poor perfusion\r\n",
      "\r\n",
      "  9:  mucous membranes\r\n",
      "          - a subjective measurement of colour\r\n",
      "          - possible values are:\r\n",
      "               1 = normal pink\r\n",
      "               2 = bright pink\r\n",
      "               3 = pale pink\r\n",
      "               4 = pale cyanotic\r\n",
      "               5 = bright red / injected\r\n",
      "               6 = dark cyanotic\r\n",
      "          - 1 and 2 probably indicate a normal or slightly increased\r\n",
      "            circulation\r\n",
      "          - 3 may occur in early shock\r\n",
      "          - 4 and 6 are indicative of serious circulatory compromise\r\n",
      "          - 5 is more indicative of a septicemia\r\n",
      "\r\n",
      " 10: capillary refill time\r\n",
      "          - a clinical judgement. The longer the refill, the poorer the\r\n",
      "            circulation\r\n",
      "          - possible values\r\n",
      "               1 = < 3 seconds\r\n",
      "               2 = >= 3 seconds\r\n",
      "\r\n",
      " 11: pain - a subjective judgement of the horse's pain level\r\n",
      "          - possible values:\r\n",
      "               1 = alert, no pain\r\n",
      "               2 = depressed\r\n",
      "               3 = intermittent mild pain\r\n",
      "               4 = intermittent severe pain\r\n",
      "               5 = continuous severe pain\r\n",
      "          - should NOT be treated as a ordered or discrete variable!\r\n",
      "          - In general, the more painful, the more likely it is to require\r\n",
      "            surgery\r\n",
      "          - prior treatment of pain may mask the pain level to some extent\r\n",
      "\r\n",
      " 12: peristalsis                              \r\n",
      "          - an indication of the activity in the horse's gut. As the gut\r\n",
      "            becomes more distended or the horse becomes more toxic, the\r\n",
      "            activity decreases\r\n",
      "          - possible values:\r\n",
      "               1 = hypermotile\r\n",
      "               2 = normal\r\n",
      "               3 = hypomotile\r\n",
      "               4 = absent\r\n",
      "\r\n",
      " 13: abdominal distension\r\n",
      "          - An IMPORTANT parameter.\r\n",
      "          - possible values\r\n",
      "               1 = none\r\n",
      "               2 = slight\r\n",
      "               3 = moderate\r\n",
      "               4 = severe\r\n",
      "          - an animal with abdominal distension is likely to be painful and\r\n",
      "            have reduced gut motility.\r\n",
      "          - a horse with severe abdominal distension is likely to require\r\n",
      "            surgery just tio relieve the pressure\r\n",
      "\r\n",
      " 14: nasogastric tube\r\n",
      "          - this refers to any gas coming out of the tube\r\n",
      "          - possible values:\r\n",
      "               1 = none\r\n",
      "               2 = slight\r\n",
      "               3 = significant\r\n",
      "          - a large gas cap in the stomach is likely to give the horse\r\n",
      "            discomfort\r\n",
      "\r\n",
      " 15: nasogastric reflux\r\n",
      "          - possible values\r\n",
      "               1 = none\r\n",
      "               2 = > 1 liter\r\n",
      "               3 = < 1 liter\r\n",
      "          - the greater amount of reflux, the more likelihood that there is\r\n",
      "            some serious obstruction to the fluid passage from the rest of\r\n",
      "            the intestine\r\n",
      "\r\n",
      " 16: nasogastric reflux PH\r\n",
      "          - linear\r\n",
      "          - scale is from 0 to 14 with 7 being neutral\r\n",
      "          - normal values are in the 3 to 4 range\r\n",
      "\r\n",
      " 17: rectal examination - feces\r\n",
      "          - possible values\r\n",
      "               1 = normal\r\n",
      "               2 = increased\r\n",
      "               3 = decreased\r\n",
      "               4 = absent\r\n",
      "          - absent feces probably indicates an obstruction\r\n",
      "\r\n",
      " 18: abdomen\r\n",
      "          - possible values\r\n",
      "               1 = normal\r\n",
      "               2 = other\r\n",
      "               3 = firm feces in the large intestine\r\n",
      "               4 = distended small intestine\r\n",
      "               5 = distended large intestine\r\n",
      "          - 3 is probably an obstruction caused by a mechanical impaction\r\n",
      "            and is normally treated medically\r\n",
      "          - 4 and 5 indicate a surgical lesion\r\n",
      "\r\n",
      " 19: packed cell volume\r\n",
      "          - linear\r\n",
      "          - the # of red cells by volume in the blood\r\n",
      "          - normal range is 30 to 50. The level rises as the circulation\r\n",
      "            becomes compromised or as the animal becomes dehydrated.\r\n",
      "\r\n",
      " 20: total protein\r\n",
      "          - linear\r\n",
      "          - normal values lie in the 6-7.5 (gms/dL) range\r\n",
      "          - the higher the value the greater the dehydration\r\n",
      "\r\n",
      " 21: abdominocentesis appearance\r\n",
      "          - a needle is put in the horse's abdomen and fluid is obtained from\r\n",
      "            the abdominal cavity\r\n",
      "          - possible values:\r\n",
      "               1 = clear\r\n",
      "               2 = cloudy\r\n",
      "               3 = serosanguinous\r\n",
      "          - normal fluid is clear while cloudy or serosanguinous indicates\r\n",
      "            a compromised gut\r\n",
      "\r\n",
      " 22: abdomcentesis total protein\r\n",
      "          - linear\r\n",
      "          - the higher the level of protein the more likely it is to have a\r\n",
      "            compromised gut. Values are in gms/dL\r\n",
      "\r\n",
      " 23: outcome\r\n",
      "          - what eventually happened to the horse?\r\n",
      "          - possible values:\r\n",
      "               1 = lived\r\n",
      "               2 = died\r\n",
      "               3 = was euthanized\r\n",
      "\r\n",
      " 24: surgical lesion?\r\n",
      "          - retrospectively, was the problem (lesion) surgical?\r\n",
      "          - all cases are either operated upon or autopsied so that\r\n",
      "            this value and the lesion type are always known\r\n",
      "          - possible values:\r\n",
      "               1 = Yes\r\n",
      "               2 = No\r\n",
      "\r\n",
      " 25, 26, 27: type of lesion\r\n",
      "          - first number is site of lesion\r\n",
      "               1 = gastric\r\n",
      "               2 = sm intestine\r\n",
      "               3 = lg colon\r\n",
      "               4 = lg colon and cecum\r\n",
      "               5 = cecum\r\n",
      "               6 = transverse colon\r\n",
      "               7 = retum/descending colon\r\n",
      "               8 = uterus\r\n",
      "               9 = bladder\r\n",
      "               11 = all intestinal sites\r\n",
      "               00 = none\r\n",
      "          - second number is type\r\n",
      "               1 = simple\r\n",
      "               2 = strangulation\r\n",
      "               3 = inflammation\r\n",
      "               4 = other\r\n",
      "          - third number is subtype\r\n",
      "               1 = mechanical\r\n",
      "               2 = paralytic\r\n",
      "               0 = n/a\r\n",
      "          - fourth number is specific code\r\n",
      "               1 = obturation\r\n",
      "               2 = intrinsic\r\n",
      "               3 = extrinsic\r\n",
      "               4 = adynamic\r\n",
      "               5 = volvulus/torsion\r\n",
      "               6 = intussuption\r\n",
      "               7 = thromboembolic\r\n",
      "               8 = hernia\r\n",
      "               9 = lipoma/slenic incarceration\r\n",
      "               10 = displacement\r\n",
      "               0 = n/a\r\n",
      " 28: cp_data\r\n",
      "          - is pathology data present for this case?\r\n",
      "               1 = Yes\r\n",
      "               2 = No\r\n",
      "          - this variable is of no significance since pathology data\r\n",
      "            is not included or collected for these cases\r\n",
      "\r\n",
      "8. Missing values: 30% of the values are missing"
     ]
    }
   ],
   "source": [
    "cat ./data/horse-colic.names.txt"
   ]
  },
  {
   "cell_type": "code",
   "execution_count": 2,
   "metadata": {},
   "outputs": [],
   "source": [
    "cols = ['Surgery', 'Age', 'Hospital Number', 'Rectal Temp', 'Pulse', 'Respiratory Rate', 'Extremity Temp', \n",
    "        'Peripheral Pulse', 'Mucous Membranes', 'Capillary Refill Time', 'Pain', 'Peristalsis', 'Abdominal Distension',\n",
    "       'Nasogastric Tube', 'Nasogastric Reflux', 'Nasogastric Reflux PH', 'Rectal Exam - Feces', 'Abdomen', 'Packed Cell Volume',\n",
    "       'Total Protein', 'Abdominocentesis Appearance', 'Abdominocentesis Total Protein', 'Outcome', 'Surgical Lesion',\n",
    "       'Lesion Site', 'Lesion Type', 'Lesion Subtype', 'Pathology Data Present']"
   ]
  },
  {
   "cell_type": "code",
   "execution_count": 3,
   "metadata": {},
   "outputs": [
    {
     "data": {
      "text/plain": [
       "28"
      ]
     },
     "execution_count": 3,
     "metadata": {},
     "output_type": "execute_result"
    }
   ],
   "source": [
    "len(cols)"
   ]
  },
  {
   "cell_type": "code",
   "execution_count": 17,
   "metadata": {
    "scrolled": true
   },
   "outputs": [],
   "source": [
    "pd.read_csv?"
   ]
  },
  {
   "cell_type": "code",
   "execution_count": 6,
   "metadata": {},
   "outputs": [
    {
     "data": {
      "text/html": [
       "<div>\n",
       "<style scoped>\n",
       "    .dataframe tbody tr th:only-of-type {\n",
       "        vertical-align: middle;\n",
       "    }\n",
       "\n",
       "    .dataframe tbody tr th {\n",
       "        vertical-align: top;\n",
       "    }\n",
       "\n",
       "    .dataframe thead th {\n",
       "        text-align: right;\n",
       "    }\n",
       "</style>\n",
       "<table border=\"1\" class=\"dataframe\">\n",
       "  <thead>\n",
       "    <tr style=\"text-align: right;\">\n",
       "      <th></th>\n",
       "      <th>Surgery</th>\n",
       "      <th>Age</th>\n",
       "      <th>Hospital Number</th>\n",
       "      <th>Rectal Temp</th>\n",
       "      <th>Pulse</th>\n",
       "      <th>Respiratory Rate</th>\n",
       "      <th>Extremity Temp</th>\n",
       "      <th>Peripheral Pulse</th>\n",
       "      <th>Mucous Membranes</th>\n",
       "      <th>Capillary Refill Time</th>\n",
       "      <th>...</th>\n",
       "      <th>Packed Cell Volume</th>\n",
       "      <th>Total Protein</th>\n",
       "      <th>Abdominocentesis Appearance</th>\n",
       "      <th>Abdominocentesis Total Protein</th>\n",
       "      <th>Outcome</th>\n",
       "      <th>Surgical Lesion</th>\n",
       "      <th>Lesion Site</th>\n",
       "      <th>Lesion Type</th>\n",
       "      <th>Lesion Subtype</th>\n",
       "      <th>Pathology Data Present</th>\n",
       "    </tr>\n",
       "  </thead>\n",
       "  <tbody>\n",
       "    <tr>\n",
       "      <th>0</th>\n",
       "      <td>2</td>\n",
       "      <td>1</td>\n",
       "      <td>530101</td>\n",
       "      <td>38.50</td>\n",
       "      <td>66</td>\n",
       "      <td>28</td>\n",
       "      <td>3</td>\n",
       "      <td>3</td>\n",
       "      <td>?</td>\n",
       "      <td>2</td>\n",
       "      <td>...</td>\n",
       "      <td>45.00</td>\n",
       "      <td>8.40</td>\n",
       "      <td>?</td>\n",
       "      <td>?</td>\n",
       "      <td>2</td>\n",
       "      <td>2</td>\n",
       "      <td>11300</td>\n",
       "      <td>0</td>\n",
       "      <td>0</td>\n",
       "      <td>2</td>\n",
       "    </tr>\n",
       "    <tr>\n",
       "      <th>1</th>\n",
       "      <td>1</td>\n",
       "      <td>1</td>\n",
       "      <td>534817</td>\n",
       "      <td>39.2</td>\n",
       "      <td>88</td>\n",
       "      <td>20</td>\n",
       "      <td>?</td>\n",
       "      <td>?</td>\n",
       "      <td>4</td>\n",
       "      <td>1</td>\n",
       "      <td>...</td>\n",
       "      <td>50</td>\n",
       "      <td>85</td>\n",
       "      <td>2</td>\n",
       "      <td>2</td>\n",
       "      <td>3</td>\n",
       "      <td>2</td>\n",
       "      <td>2208</td>\n",
       "      <td>0</td>\n",
       "      <td>0</td>\n",
       "      <td>2</td>\n",
       "    </tr>\n",
       "    <tr>\n",
       "      <th>2</th>\n",
       "      <td>2</td>\n",
       "      <td>1</td>\n",
       "      <td>530334</td>\n",
       "      <td>38.30</td>\n",
       "      <td>40</td>\n",
       "      <td>24</td>\n",
       "      <td>1</td>\n",
       "      <td>1</td>\n",
       "      <td>3</td>\n",
       "      <td>1</td>\n",
       "      <td>...</td>\n",
       "      <td>33.00</td>\n",
       "      <td>6.70</td>\n",
       "      <td>?</td>\n",
       "      <td>?</td>\n",
       "      <td>1</td>\n",
       "      <td>2</td>\n",
       "      <td>0</td>\n",
       "      <td>0</td>\n",
       "      <td>0</td>\n",
       "      <td>1</td>\n",
       "    </tr>\n",
       "    <tr>\n",
       "      <th>3</th>\n",
       "      <td>1</td>\n",
       "      <td>9</td>\n",
       "      <td>5290409</td>\n",
       "      <td>39.10</td>\n",
       "      <td>164</td>\n",
       "      <td>84</td>\n",
       "      <td>4</td>\n",
       "      <td>1</td>\n",
       "      <td>6</td>\n",
       "      <td>2</td>\n",
       "      <td>...</td>\n",
       "      <td>48.00</td>\n",
       "      <td>7.20</td>\n",
       "      <td>3</td>\n",
       "      <td>5.30</td>\n",
       "      <td>2</td>\n",
       "      <td>1</td>\n",
       "      <td>2208</td>\n",
       "      <td>0</td>\n",
       "      <td>0</td>\n",
       "      <td>1</td>\n",
       "    </tr>\n",
       "    <tr>\n",
       "      <th>4</th>\n",
       "      <td>2</td>\n",
       "      <td>1</td>\n",
       "      <td>530255</td>\n",
       "      <td>37.30</td>\n",
       "      <td>104</td>\n",
       "      <td>35</td>\n",
       "      <td>?</td>\n",
       "      <td>?</td>\n",
       "      <td>6</td>\n",
       "      <td>2</td>\n",
       "      <td>...</td>\n",
       "      <td>74.00</td>\n",
       "      <td>7.40</td>\n",
       "      <td>?</td>\n",
       "      <td>?</td>\n",
       "      <td>2</td>\n",
       "      <td>2</td>\n",
       "      <td>4300</td>\n",
       "      <td>0</td>\n",
       "      <td>0</td>\n",
       "      <td>2</td>\n",
       "    </tr>\n",
       "  </tbody>\n",
       "</table>\n",
       "<p>5 rows × 28 columns</p>\n",
       "</div>"
      ],
      "text/plain": [
       "  Surgery  Age  Hospital Number Rectal Temp Pulse Respiratory Rate  \\\n",
       "0       2    1           530101       38.50    66               28   \n",
       "1       1    1           534817        39.2    88               20   \n",
       "2       2    1           530334       38.30    40               24   \n",
       "3       1    9          5290409       39.10   164               84   \n",
       "4       2    1           530255       37.30   104               35   \n",
       "\n",
       "  Extremity Temp Peripheral Pulse Mucous Membranes Capillary Refill Time  \\\n",
       "0              3                3                ?                     2   \n",
       "1              ?                ?                4                     1   \n",
       "2              1                1                3                     1   \n",
       "3              4                1                6                     2   \n",
       "4              ?                ?                6                     2   \n",
       "\n",
       "           ...           Packed Cell Volume Total Protein  \\\n",
       "0          ...                        45.00          8.40   \n",
       "1          ...                           50            85   \n",
       "2          ...                        33.00          6.70   \n",
       "3          ...                        48.00          7.20   \n",
       "4          ...                        74.00          7.40   \n",
       "\n",
       "  Abdominocentesis Appearance Abdominocentesis Total Protein Outcome  \\\n",
       "0                           ?                              ?       2   \n",
       "1                           2                              2       3   \n",
       "2                           ?                              ?       1   \n",
       "3                           3                           5.30       2   \n",
       "4                           ?                              ?       2   \n",
       "\n",
       "  Surgical Lesion Lesion Site Lesion Type Lesion Subtype  \\\n",
       "0               2       11300           0              0   \n",
       "1               2        2208           0              0   \n",
       "2               2           0           0              0   \n",
       "3               1        2208           0              0   \n",
       "4               2        4300           0              0   \n",
       "\n",
       "  Pathology Data Present  \n",
       "0                      2  \n",
       "1                      2  \n",
       "2                      1  \n",
       "3                      1  \n",
       "4                      2  \n",
       "\n",
       "[5 rows x 28 columns]"
      ]
     },
     "execution_count": 6,
     "metadata": {},
     "output_type": "execute_result"
    }
   ],
   "source": [
    "df = pd.read_csv('./data/horse-colic.data.txt', delim_whitespace=True, header=None, names=cols)\n",
    "df.head()"
   ]
  },
  {
   "cell_type": "code",
   "execution_count": 16,
   "metadata": {},
   "outputs": [],
   "source": [
    "horsie = df.copy()\n",
    "horseset = horsie.values"
   ]
  },
  {
   "cell_type": "code",
   "execution_count": 18,
   "metadata": {},
   "outputs": [],
   "source": [
    "X = horseset[:, 0:27]\n",
    "Y = horseset[:, 27 ]"
   ]
  },
  {
   "cell_type": "markdown",
   "metadata": {},
   "source": [
    "change all '?' strings to 0's, and convert all to float"
   ]
  },
  {
   "cell_type": "code",
   "execution_count": 19,
   "metadata": {},
   "outputs": [],
   "source": [
    "X[X == '?'] = 0\n",
    "X = X.astype('float32')"
   ]
  },
  {
   "cell_type": "markdown",
   "metadata": {},
   "source": [
    "Many class values are marked as 1/2.  Easily convert to 0/1 with LabelEncoder"
   ]
  },
  {
   "cell_type": "code",
   "execution_count": 21,
   "metadata": {},
   "outputs": [],
   "source": [
    "label_encoder = LabelEncoder()\n",
    "label_encoder = label_encoder.fit(Y)\n",
    "label_encoded_y = label_encoder.transform(Y)"
   ]
  },
  {
   "cell_type": "code",
   "execution_count": 25,
   "metadata": {},
   "outputs": [
    {
     "data": {
      "text/plain": [
       "array([1, 1, 0, 0, 1])"
      ]
     },
     "execution_count": 25,
     "metadata": {},
     "output_type": "execute_result"
    }
   ],
   "source": [
    "label_encoded_y[0:5]"
   ]
  },
  {
   "cell_type": "code",
   "execution_count": 27,
   "metadata": {},
   "outputs": [
    {
     "name": "stdout",
     "output_type": "stream",
     "text": [
      "XGBClassifier(base_score=0.5, booster='gbtree', colsample_bylevel=1,\n",
      "       colsample_bytree=1, gamma=0, learning_rate=0.1, max_delta_step=0,\n",
      "       max_depth=3, min_child_weight=1, missing=None, n_estimators=100,\n",
      "       n_jobs=1, nthread=None, objective='binary:logistic', random_state=0,\n",
      "       reg_alpha=0, reg_lambda=1, scale_pos_weight=1, seed=None,\n",
      "       silent=True, subsample=1)\n",
      "Accuracy: 83.84%\n"
     ]
    },
    {
     "name": "stderr",
     "output_type": "stream",
     "text": [
      "/Users/William/anaconda/lib/python3.6/site-packages/sklearn/preprocessing/label.py:151: DeprecationWarning: The truth value of an empty array is ambiguous. Returning False, but in future this will result in an error. Use `array.size > 0` to check that an array is not empty.\n",
      "  if diff:\n"
     ]
    }
   ],
   "source": [
    "seed = 7\n",
    "test_size = 0.33\n",
    "X_train, X_test, y_train, y_test = train_test_split(X, label_encoded_y, test_size=test_size, random_state=seed)\n",
    "model = xgb.XGBClassifier()\n",
    "model.fit(X_train, y_train)\n",
    "print(model)\n",
    "y_pred = model.predict(X_test)\n",
    "predictions = [round(value) for value in y_pred]\n",
    "accuracy = accuracy_score(y_test, predictions)\n",
    "print(\"Accuracy: %.2f%%\" % (accuracy * 100.0))"
   ]
  },
  {
   "cell_type": "markdown",
   "metadata": {},
   "source": [
    "## How to Impute Values"
   ]
  },
  {
   "cell_type": "code",
   "execution_count": 28,
   "metadata": {},
   "outputs": [],
   "source": [
    "from sklearn.preprocessing import Imputer"
   ]
  },
  {
   "cell_type": "code",
   "execution_count": 30,
   "metadata": {},
   "outputs": [],
   "source": [
    "X = horseset[:, 0:27]\n",
    "Y = horseset[:, 27 ]\n",
    "X[X == '?'] = np.nan\n",
    "X = X.astype('float32')"
   ]
  },
  {
   "cell_type": "markdown",
   "metadata": {},
   "source": [
    "Using Imputer() will use the mean value of the column to fill in the missing value"
   ]
  },
  {
   "cell_type": "code",
   "execution_count": 32,
   "metadata": {},
   "outputs": [],
   "source": [
    "imputer = Imputer()\n",
    "imputed_x = imputer.fit_transform(X)"
   ]
  },
  {
   "cell_type": "code",
   "execution_count": 33,
   "metadata": {},
   "outputs": [],
   "source": [
    "label_encoder = LabelEncoder()\n",
    "label_encoder = label_encoder.fit(Y)\n",
    "label_encoded_y = label_encoder.transform(Y)"
   ]
  },
  {
   "cell_type": "code",
   "execution_count": 35,
   "metadata": {},
   "outputs": [
    {
     "name": "stdout",
     "output_type": "stream",
     "text": [
      "XGBClassifier(base_score=0.5, booster='gbtree', colsample_bylevel=1,\n",
      "       colsample_bytree=1, gamma=0, learning_rate=0.1, max_delta_step=0,\n",
      "       max_depth=3, min_child_weight=1, missing=None, n_estimators=100,\n",
      "       n_jobs=1, nthread=None, objective='binary:logistic', random_state=0,\n",
      "       reg_alpha=0, reg_lambda=1, scale_pos_weight=1, seed=None,\n",
      "       silent=True, subsample=1)\n",
      "Accuracy: 83.84%\n"
     ]
    },
    {
     "name": "stderr",
     "output_type": "stream",
     "text": [
      "/Users/William/anaconda/lib/python3.6/site-packages/sklearn/preprocessing/label.py:151: DeprecationWarning: The truth value of an empty array is ambiguous. Returning False, but in future this will result in an error. Use `array.size > 0` to check that an array is not empty.\n",
      "  if diff:\n"
     ]
    }
   ],
   "source": [
    "seed = 7\n",
    "test_size = 0.33\n",
    "X_train, X_test, y_train, y_test = train_test_split(imputed_x, label_encoded_y, test_size=test_size, random_state=seed)\n",
    "model = xgb.XGBClassifier()\n",
    "model.fit(X_train, y_train)\n",
    "print(model)\n",
    "y_pred = model.predict(X_test)\n",
    "predictions = [round(value) for value in y_pred]\n",
    "accuracy = accuracy_score(y_test, predictions)\n",
    "print(\"Accuracy: %.2f%%\" % (accuracy * 100.0))"
   ]
  },
  {
   "cell_type": "markdown",
   "metadata": {},
   "source": [
    "Here, appears to have same accuracy as setting values to zero.\n",
    "\n",
    "But important to test as this may not always be the case"
   ]
  },
  {
   "cell_type": "code",
   "execution_count": null,
   "metadata": {},
   "outputs": [],
   "source": []
  }
 ],
 "metadata": {
  "kernelspec": {
   "display_name": "Python 3",
   "language": "python",
   "name": "python3"
  },
  "language_info": {
   "codemirror_mode": {
    "name": "ipython",
    "version": 3
   },
   "file_extension": ".py",
   "mimetype": "text/x-python",
   "name": "python",
   "nbconvert_exporter": "python",
   "pygments_lexer": "ipython3",
   "version": "3.6.5"
  }
 },
 "nbformat": 4,
 "nbformat_minor": 2
}
