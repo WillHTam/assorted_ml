{
 "cells": [
  {
   "cell_type": "markdown",
   "metadata": {},
   "source": [
    "# Simple Stock Price LSTM"
   ]
  },
  {
   "cell_type": "code",
   "execution_count": 1,
   "metadata": {},
   "outputs": [],
   "source": [
    "import numpy as np\n",
    "import matplotlib.pyplot as plt\n",
    "% matplotlib inline\n",
    "% config InlineBackend.figure_format = 'retina'\n",
    "import pandas as pd"
   ]
  },
  {
   "cell_type": "code",
   "execution_count": 2,
   "metadata": {},
   "outputs": [
    {
     "name": "stdout",
     "output_type": "stream",
     "text": [
      "TSLA-test.csv                         airline.ipynb\r\n",
      "TSLA-train.csv                        international-airline-passengers.csv\r\n",
      "Tesla.ipynb\r\n"
     ]
    }
   ],
   "source": [
    "ls"
   ]
  },
  {
   "cell_type": "code",
   "execution_count": 3,
   "metadata": {
    "scrolled": true
   },
   "outputs": [
    {
     "data": {
      "text/html": [
       "<div>\n",
       "<style scoped>\n",
       "    .dataframe tbody tr th:only-of-type {\n",
       "        vertical-align: middle;\n",
       "    }\n",
       "\n",
       "    .dataframe tbody tr th {\n",
       "        vertical-align: top;\n",
       "    }\n",
       "\n",
       "    .dataframe thead th {\n",
       "        text-align: right;\n",
       "    }\n",
       "</style>\n",
       "<table border=\"1\" class=\"dataframe\">\n",
       "  <thead>\n",
       "    <tr style=\"text-align: right;\">\n",
       "      <th></th>\n",
       "      <th>Date</th>\n",
       "      <th>Open</th>\n",
       "      <th>High</th>\n",
       "      <th>Low</th>\n",
       "      <th>Close</th>\n",
       "      <th>Adj Close</th>\n",
       "      <th>Volume</th>\n",
       "    </tr>\n",
       "  </thead>\n",
       "  <tbody>\n",
       "    <tr>\n",
       "      <th>0</th>\n",
       "      <td>2012-01-03</td>\n",
       "      <td>28.940001</td>\n",
       "      <td>29.500000</td>\n",
       "      <td>27.650000</td>\n",
       "      <td>28.080000</td>\n",
       "      <td>28.080000</td>\n",
       "      <td>928100</td>\n",
       "    </tr>\n",
       "    <tr>\n",
       "      <th>1</th>\n",
       "      <td>2012-01-04</td>\n",
       "      <td>28.209999</td>\n",
       "      <td>28.670000</td>\n",
       "      <td>27.500000</td>\n",
       "      <td>27.709999</td>\n",
       "      <td>27.709999</td>\n",
       "      <td>630100</td>\n",
       "    </tr>\n",
       "    <tr>\n",
       "      <th>2</th>\n",
       "      <td>2012-01-05</td>\n",
       "      <td>27.760000</td>\n",
       "      <td>27.930000</td>\n",
       "      <td>26.850000</td>\n",
       "      <td>27.120001</td>\n",
       "      <td>27.120001</td>\n",
       "      <td>1005500</td>\n",
       "    </tr>\n",
       "    <tr>\n",
       "      <th>3</th>\n",
       "      <td>2012-01-06</td>\n",
       "      <td>27.200001</td>\n",
       "      <td>27.790001</td>\n",
       "      <td>26.410000</td>\n",
       "      <td>26.910000</td>\n",
       "      <td>26.910000</td>\n",
       "      <td>986300</td>\n",
       "    </tr>\n",
       "    <tr>\n",
       "      <th>4</th>\n",
       "      <td>2012-01-09</td>\n",
       "      <td>27.000000</td>\n",
       "      <td>27.490000</td>\n",
       "      <td>26.120001</td>\n",
       "      <td>27.250000</td>\n",
       "      <td>27.250000</td>\n",
       "      <td>897000</td>\n",
       "    </tr>\n",
       "  </tbody>\n",
       "</table>\n",
       "</div>"
      ],
      "text/plain": [
       "         Date       Open       High        Low      Close  Adj Close   Volume\n",
       "0  2012-01-03  28.940001  29.500000  27.650000  28.080000  28.080000   928100\n",
       "1  2012-01-04  28.209999  28.670000  27.500000  27.709999  27.709999   630100\n",
       "2  2012-01-05  27.760000  27.930000  26.850000  27.120001  27.120001  1005500\n",
       "3  2012-01-06  27.200001  27.790001  26.410000  26.910000  26.910000   986300\n",
       "4  2012-01-09  27.000000  27.490000  26.120001  27.250000  27.250000   897000"
      ]
     },
     "execution_count": 3,
     "metadata": {},
     "output_type": "execute_result"
    }
   ],
   "source": [
    "training_set = pd.read_csv('./TSLA-train.csv')\n",
    "training_set.head()"
   ]
  },
  {
   "cell_type": "code",
   "execution_count": 4,
   "metadata": {},
   "outputs": [
    {
     "data": {
      "text/plain": [
       "(1258, 7)"
      ]
     },
     "execution_count": 4,
     "metadata": {},
     "output_type": "execute_result"
    }
   ],
   "source": [
    "training_set.shape"
   ]
  },
  {
   "cell_type": "code",
   "execution_count": 5,
   "metadata": {},
   "outputs": [
    {
     "data": {
      "text/html": [
       "<div>\n",
       "<style scoped>\n",
       "    .dataframe tbody tr th:only-of-type {\n",
       "        vertical-align: middle;\n",
       "    }\n",
       "\n",
       "    .dataframe tbody tr th {\n",
       "        vertical-align: top;\n",
       "    }\n",
       "\n",
       "    .dataframe thead th {\n",
       "        text-align: right;\n",
       "    }\n",
       "</style>\n",
       "<table border=\"1\" class=\"dataframe\">\n",
       "  <thead>\n",
       "    <tr style=\"text-align: right;\">\n",
       "      <th></th>\n",
       "      <th>Date</th>\n",
       "      <th>Open</th>\n",
       "      <th>High</th>\n",
       "      <th>Low</th>\n",
       "      <th>Close</th>\n",
       "      <th>Adj Close</th>\n",
       "      <th>Volume</th>\n",
       "    </tr>\n",
       "  </thead>\n",
       "  <tbody>\n",
       "    <tr>\n",
       "      <th>0</th>\n",
       "      <td>2017-01-03</td>\n",
       "      <td>214.860001</td>\n",
       "      <td>220.330002</td>\n",
       "      <td>210.960007</td>\n",
       "      <td>216.990005</td>\n",
       "      <td>216.990005</td>\n",
       "      <td>5923300</td>\n",
       "    </tr>\n",
       "    <tr>\n",
       "      <th>1</th>\n",
       "      <td>2017-01-04</td>\n",
       "      <td>214.750000</td>\n",
       "      <td>228.000000</td>\n",
       "      <td>214.309998</td>\n",
       "      <td>226.990005</td>\n",
       "      <td>226.990005</td>\n",
       "      <td>11213500</td>\n",
       "    </tr>\n",
       "    <tr>\n",
       "      <th>2</th>\n",
       "      <td>2017-01-05</td>\n",
       "      <td>226.419998</td>\n",
       "      <td>227.479996</td>\n",
       "      <td>221.949997</td>\n",
       "      <td>226.750000</td>\n",
       "      <td>226.750000</td>\n",
       "      <td>5911700</td>\n",
       "    </tr>\n",
       "    <tr>\n",
       "      <th>3</th>\n",
       "      <td>2017-01-06</td>\n",
       "      <td>226.929993</td>\n",
       "      <td>230.309998</td>\n",
       "      <td>225.449997</td>\n",
       "      <td>229.009995</td>\n",
       "      <td>229.009995</td>\n",
       "      <td>5527900</td>\n",
       "    </tr>\n",
       "    <tr>\n",
       "      <th>4</th>\n",
       "      <td>2017-01-09</td>\n",
       "      <td>228.970001</td>\n",
       "      <td>231.919998</td>\n",
       "      <td>228.000000</td>\n",
       "      <td>231.279999</td>\n",
       "      <td>231.279999</td>\n",
       "      <td>3957000</td>\n",
       "    </tr>\n",
       "  </tbody>\n",
       "</table>\n",
       "</div>"
      ],
      "text/plain": [
       "         Date        Open        High         Low       Close   Adj Close  \\\n",
       "0  2017-01-03  214.860001  220.330002  210.960007  216.990005  216.990005   \n",
       "1  2017-01-04  214.750000  228.000000  214.309998  226.990005  226.990005   \n",
       "2  2017-01-05  226.419998  227.479996  221.949997  226.750000  226.750000   \n",
       "3  2017-01-06  226.929993  230.309998  225.449997  229.009995  229.009995   \n",
       "4  2017-01-09  228.970001  231.919998  228.000000  231.279999  231.279999   \n",
       "\n",
       "     Volume  \n",
       "0   5923300  \n",
       "1  11213500  \n",
       "2   5911700  \n",
       "3   5527900  \n",
       "4   3957000  "
      ]
     },
     "execution_count": 5,
     "metadata": {},
     "output_type": "execute_result"
    }
   ],
   "source": [
    "test_set = pd.read_csv('./TSLA-test.csv')\n",
    "test_set.head()"
   ]
  },
  {
   "cell_type": "markdown",
   "metadata": {},
   "source": [
    "Only one feature, open price"
   ]
  },
  {
   "cell_type": "code",
   "execution_count": 6,
   "metadata": {},
   "outputs": [
    {
     "data": {
      "text/html": [
       "<div>\n",
       "<style scoped>\n",
       "    .dataframe tbody tr th:only-of-type {\n",
       "        vertical-align: middle;\n",
       "    }\n",
       "\n",
       "    .dataframe tbody tr th {\n",
       "        vertical-align: top;\n",
       "    }\n",
       "\n",
       "    .dataframe thead th {\n",
       "        text-align: right;\n",
       "    }\n",
       "</style>\n",
       "<table border=\"1\" class=\"dataframe\">\n",
       "  <thead>\n",
       "    <tr style=\"text-align: right;\">\n",
       "      <th></th>\n",
       "      <th>Open</th>\n",
       "    </tr>\n",
       "  </thead>\n",
       "  <tbody>\n",
       "    <tr>\n",
       "      <th>0</th>\n",
       "      <td>28.940001</td>\n",
       "    </tr>\n",
       "    <tr>\n",
       "      <th>1</th>\n",
       "      <td>28.209999</td>\n",
       "    </tr>\n",
       "    <tr>\n",
       "      <th>2</th>\n",
       "      <td>27.760000</td>\n",
       "    </tr>\n",
       "    <tr>\n",
       "      <th>3</th>\n",
       "      <td>27.200001</td>\n",
       "    </tr>\n",
       "    <tr>\n",
       "      <th>4</th>\n",
       "      <td>27.000000</td>\n",
       "    </tr>\n",
       "  </tbody>\n",
       "</table>\n",
       "</div>"
      ],
      "text/plain": [
       "        Open\n",
       "0  28.940001\n",
       "1  28.209999\n",
       "2  27.760000\n",
       "3  27.200001\n",
       "4  27.000000"
      ]
     },
     "execution_count": 6,
     "metadata": {},
     "output_type": "execute_result"
    }
   ],
   "source": [
    "# Getting relevant feature\n",
    "training_set = training_set.iloc[:,1:2]\n",
    "training_set.head()"
   ]
  },
  {
   "cell_type": "code",
   "execution_count": 7,
   "metadata": {},
   "outputs": [],
   "source": [
    "training_set = training_set.values"
   ]
  },
  {
   "cell_type": "markdown",
   "metadata": {},
   "source": [
    "Feature scaling"
   ]
  },
  {
   "cell_type": "code",
   "execution_count": 8,
   "metadata": {},
   "outputs": [
    {
     "data": {
      "text/plain": [
       "array([[0.00888719],\n",
       "       [0.00609078],\n",
       "       [0.00436698],\n",
       "       ...,\n",
       "       [0.74663853],\n",
       "       [0.7352614 ],\n",
       "       [0.72660407]])"
      ]
     },
     "execution_count": 8,
     "metadata": {},
     "output_type": "execute_result"
    }
   ],
   "source": [
    "from sklearn.preprocessing import MinMaxScaler\n",
    "sc = MinMaxScaler()\n",
    "training_set = sc.fit_transform(training_set)\n",
    "training_set"
   ]
  },
  {
   "cell_type": "markdown",
   "metadata": {},
   "source": [
    "Shift one block. Input feature is the current day, output is the next day"
   ]
  },
  {
   "cell_type": "code",
   "execution_count": 9,
   "metadata": {},
   "outputs": [],
   "source": [
    "X_train = training_set[0:1257]\n",
    "y_train = training_set[1:1258]"
   ]
  },
  {
   "cell_type": "code",
   "execution_count": 10,
   "metadata": {},
   "outputs": [
    {
     "data": {
      "text/html": [
       "<div>\n",
       "<style scoped>\n",
       "    .dataframe tbody tr th:only-of-type {\n",
       "        vertical-align: middle;\n",
       "    }\n",
       "\n",
       "    .dataframe tbody tr th {\n",
       "        vertical-align: top;\n",
       "    }\n",
       "\n",
       "    .dataframe thead th {\n",
       "        text-align: right;\n",
       "    }\n",
       "</style>\n",
       "<table border=\"1\" class=\"dataframe\">\n",
       "  <thead>\n",
       "    <tr style=\"text-align: right;\">\n",
       "      <th></th>\n",
       "      <th>today</th>\n",
       "      <th>tomorrow</th>\n",
       "    </tr>\n",
       "  </thead>\n",
       "  <tbody>\n",
       "    <tr>\n",
       "      <th>0</th>\n",
       "      <td>0.008887</td>\n",
       "      <td>0.006091</td>\n",
       "    </tr>\n",
       "    <tr>\n",
       "      <th>1</th>\n",
       "      <td>0.006091</td>\n",
       "      <td>0.004367</td>\n",
       "    </tr>\n",
       "    <tr>\n",
       "      <th>2</th>\n",
       "      <td>0.004367</td>\n",
       "      <td>0.002222</td>\n",
       "    </tr>\n",
       "    <tr>\n",
       "      <th>3</th>\n",
       "      <td>0.002222</td>\n",
       "      <td>0.001456</td>\n",
       "    </tr>\n",
       "    <tr>\n",
       "      <th>4</th>\n",
       "      <td>0.001456</td>\n",
       "      <td>0.003141</td>\n",
       "    </tr>\n",
       "  </tbody>\n",
       "</table>\n",
       "</div>"
      ],
      "text/plain": [
       "      today  tomorrow\n",
       "0  0.008887  0.006091\n",
       "1  0.006091  0.004367\n",
       "2  0.004367  0.002222\n",
       "3  0.002222  0.001456\n",
       "4  0.001456  0.003141"
      ]
     },
     "execution_count": 10,
     "metadata": {},
     "output_type": "execute_result"
    }
   ],
   "source": [
    "today = pd.DataFrame(X_train[0:5])\n",
    "tomorrow = pd.DataFrame(y_train[0:5])\n",
    "ex = pd.concat([today, tomorrow], axis=1)\n",
    "ex.columns = (['today', 'tomorrow'])\n",
    "ex"
   ]
  },
  {
   "cell_type": "markdown",
   "metadata": {},
   "source": [
    "Reshape data into 3 dimensions of [batch_size, timesteps, input_dim] for Keras.\n",
    "Batch size will be 1257 for amount of data.  <br/>\n",
    "Timesteps will be 1 for each day. <br/>\n",
    "Input will be 1 for one data point per observation.\n"
   ]
  },
  {
   "cell_type": "code",
   "execution_count": 11,
   "metadata": {},
   "outputs": [
    {
     "data": {
      "text/plain": [
       "array([[[0.00888719]],\n",
       "\n",
       "       [[0.00609078]],\n",
       "\n",
       "       [[0.00436698]],\n",
       "\n",
       "       ...,\n",
       "\n",
       "       [[0.72116451]],\n",
       "\n",
       "       [[0.74663853]],\n",
       "\n",
       "       [[0.7352614 ]]])"
      ]
     },
     "execution_count": 11,
     "metadata": {},
     "output_type": "execute_result"
    }
   ],
   "source": [
    "# Reshaping into required shape for Keras\n",
    "X_train = np.reshape(X_train, (1257, 1, 1))\n",
    "X_train"
   ]
  },
  {
   "cell_type": "markdown",
   "metadata": {},
   "source": [
    "RNN Build"
   ]
  },
  {
   "cell_type": "code",
   "execution_count": 12,
   "metadata": {},
   "outputs": [
    {
     "name": "stderr",
     "output_type": "stream",
     "text": [
      "/Users/William/anaconda/lib/python3.6/site-packages/h5py/__init__.py:36: FutureWarning: Conversion of the second argument of issubdtype from `float` to `np.floating` is deprecated. In future, it will be treated as `np.float64 == np.dtype(float).type`.\n",
      "  from ._conv import register_converters as _register_converters\n",
      "Using TensorFlow backend.\n"
     ]
    }
   ],
   "source": [
    "# Importing the Keras libraries and packages\n",
    "from keras.models import Sequential\n",
    "from keras.layers import Dense\n",
    "from keras.layers import LSTM"
   ]
  },
  {
   "cell_type": "markdown",
   "metadata": {},
   "source": [
    "Input layer has sigmoid activation. (None,1) for input shape"
   ]
  },
  {
   "cell_type": "code",
   "execution_count": 13,
   "metadata": {},
   "outputs": [],
   "source": [
    "model = Sequential()\n",
    "# Input layer - LSTM \n",
    "model.add(LSTM(units = 4, activation = 'relu', input_shape = (None, 1)))"
   ]
  },
  {
   "cell_type": "code",
   "execution_count": 14,
   "metadata": {},
   "outputs": [],
   "source": [
    "# Output layer\n",
    "model.add(Dense(units = 1))"
   ]
  },
  {
   "cell_type": "code",
   "execution_count": 15,
   "metadata": {},
   "outputs": [],
   "source": [
    "# Compile RNN\n",
    "model.compile(optimizer = 'adam', loss = 'mean_squared_error')"
   ]
  },
  {
   "cell_type": "code",
   "execution_count": 16,
   "metadata": {
    "scrolled": true
   },
   "outputs": [
    {
     "name": "stdout",
     "output_type": "stream",
     "text": [
      "Epoch 1/200\n",
      "1257/1257 [==============================] - 1s 580us/step - loss: 0.3557\n",
      "Epoch 2/200\n",
      "1257/1257 [==============================] - 0s 81us/step - loss: 0.3138\n",
      "Epoch 3/200\n",
      "1257/1257 [==============================] - 0s 82us/step - loss: 0.2770\n",
      "Epoch 4/200\n",
      "1257/1257 [==============================] - 0s 78us/step - loss: 0.2411\n",
      "Epoch 5/200\n",
      "1257/1257 [==============================] - 0s 81us/step - loss: 0.2042\n",
      "Epoch 6/200\n",
      "1257/1257 [==============================] - 0s 80us/step - loss: 0.1665\n",
      "Epoch 7/200\n",
      "1257/1257 [==============================] - 0s 82us/step - loss: 0.1310\n",
      "Epoch 8/200\n",
      "1257/1257 [==============================] - 0s 81us/step - loss: 0.0992\n",
      "Epoch 9/200\n",
      "1257/1257 [==============================] - 0s 82us/step - loss: 0.0745\n",
      "Epoch 10/200\n",
      "1257/1257 [==============================] - 0s 81us/step - loss: 0.0583\n",
      "Epoch 11/200\n",
      "1257/1257 [==============================] - 0s 80us/step - loss: 0.0493\n",
      "Epoch 12/200\n",
      "1257/1257 [==============================] - 0s 81us/step - loss: 0.0444\n",
      "Epoch 13/200\n",
      "1257/1257 [==============================] - 0s 80us/step - loss: 0.0411\n",
      "Epoch 14/200\n",
      "1257/1257 [==============================] - 0s 82us/step - loss: 0.0380\n",
      "Epoch 15/200\n",
      "1257/1257 [==============================] - 0s 84us/step - loss: 0.0352\n",
      "Epoch 16/200\n",
      "1257/1257 [==============================] - 0s 89us/step - loss: 0.0323\n",
      "Epoch 17/200\n",
      "1257/1257 [==============================] - 0s 101us/step - loss: 0.0295\n",
      "Epoch 18/200\n",
      "1257/1257 [==============================] - 0s 91us/step - loss: 0.0267\n",
      "Epoch 19/200\n",
      "1257/1257 [==============================] - 0s 83us/step - loss: 0.0241\n",
      "Epoch 20/200\n",
      "1257/1257 [==============================] - 0s 83us/step - loss: 0.0215\n",
      "Epoch 21/200\n",
      "1257/1257 [==============================] - 0s 88us/step - loss: 0.0190\n",
      "Epoch 22/200\n",
      "1257/1257 [==============================] - 0s 85us/step - loss: 0.0167\n",
      "Epoch 23/200\n",
      "1257/1257 [==============================] - 0s 83us/step - loss: 0.0145\n",
      "Epoch 24/200\n",
      "1257/1257 [==============================] - 0s 86us/step - loss: 0.0126\n",
      "Epoch 25/200\n",
      "1257/1257 [==============================] - 0s 84us/step - loss: 0.0108\n",
      "Epoch 26/200\n",
      "1257/1257 [==============================] - 0s 82us/step - loss: 0.0093\n",
      "Epoch 27/200\n",
      "1257/1257 [==============================] - 0s 82us/step - loss: 0.0079\n",
      "Epoch 28/200\n",
      "1257/1257 [==============================] - 0s 81us/step - loss: 0.0067\n",
      "Epoch 29/200\n",
      "1257/1257 [==============================] - 0s 82us/step - loss: 0.0058\n",
      "Epoch 30/200\n",
      "1257/1257 [==============================] - 0s 83us/step - loss: 0.0049\n",
      "Epoch 31/200\n",
      "1257/1257 [==============================] - 0s 82us/step - loss: 0.0043\n",
      "Epoch 32/200\n",
      "1257/1257 [==============================] - 0s 86us/step - loss: 0.0037\n",
      "Epoch 33/200\n",
      "1257/1257 [==============================] - 0s 81us/step - loss: 0.0033\n",
      "Epoch 34/200\n",
      "1257/1257 [==============================] - 0s 80us/step - loss: 0.0029\n",
      "Epoch 35/200\n",
      "1257/1257 [==============================] - 0s 80us/step - loss: 0.0026\n",
      "Epoch 36/200\n",
      "1257/1257 [==============================] - 0s 82us/step - loss: 0.0024\n",
      "Epoch 37/200\n",
      "1257/1257 [==============================] - 0s 81us/step - loss: 0.0022\n",
      "Epoch 38/200\n",
      "1257/1257 [==============================] - 0s 78us/step - loss: 0.0021\n",
      "Epoch 39/200\n",
      "1257/1257 [==============================] - 0s 80us/step - loss: 0.0020\n",
      "Epoch 40/200\n",
      "1257/1257 [==============================] - 0s 80us/step - loss: 0.0019\n",
      "Epoch 41/200\n",
      "1257/1257 [==============================] - 0s 82us/step - loss: 0.0018\n",
      "Epoch 42/200\n",
      "1257/1257 [==============================] - 0s 81us/step - loss: 0.0018\n",
      "Epoch 43/200\n",
      "1257/1257 [==============================] - 0s 82us/step - loss: 0.0017\n",
      "Epoch 44/200\n",
      "1257/1257 [==============================] - 0s 80us/step - loss: 0.0017\n",
      "Epoch 45/200\n",
      "1257/1257 [==============================] - 0s 83us/step - loss: 0.0016\n",
      "Epoch 46/200\n",
      "1257/1257 [==============================] - 0s 83us/step - loss: 0.0016\n",
      "Epoch 47/200\n",
      "1257/1257 [==============================] - 0s 81us/step - loss: 0.0016\n",
      "Epoch 48/200\n",
      "1257/1257 [==============================] - 0s 87us/step - loss: 0.0016\n",
      "Epoch 49/200\n",
      "1257/1257 [==============================] - 0s 81us/step - loss: 0.0015\n",
      "Epoch 50/200\n",
      "1257/1257 [==============================] - 0s 84us/step - loss: 0.0015\n",
      "Epoch 51/200\n",
      "1257/1257 [==============================] - 0s 82us/step - loss: 0.0015\n",
      "Epoch 52/200\n",
      "1257/1257 [==============================] - 0s 82us/step - loss: 0.0015\n",
      "Epoch 53/200\n",
      "1257/1257 [==============================] - 0s 82us/step - loss: 0.0015\n",
      "Epoch 54/200\n",
      "1257/1257 [==============================] - 0s 83us/step - loss: 0.0014\n",
      "Epoch 55/200\n",
      "1257/1257 [==============================] - 0s 83us/step - loss: 0.0014\n",
      "Epoch 56/200\n",
      "1257/1257 [==============================] - 0s 83us/step - loss: 0.0014\n",
      "Epoch 57/200\n",
      "1257/1257 [==============================] - 0s 82us/step - loss: 0.0014\n",
      "Epoch 58/200\n",
      "1257/1257 [==============================] - 0s 82us/step - loss: 0.0014\n",
      "Epoch 59/200\n",
      "1257/1257 [==============================] - 0s 81us/step - loss: 0.0013\n",
      "Epoch 60/200\n",
      "1257/1257 [==============================] - 0s 82us/step - loss: 0.0013\n",
      "Epoch 61/200\n",
      "1257/1257 [==============================] - 0s 83us/step - loss: 0.0013\n",
      "Epoch 62/200\n",
      "1257/1257 [==============================] - 0s 83us/step - loss: 0.0013\n",
      "Epoch 63/200\n",
      "1257/1257 [==============================] - 0s 82us/step - loss: 0.0013\n",
      "Epoch 64/200\n",
      "1257/1257 [==============================] - 0s 81us/step - loss: 0.0013\n",
      "Epoch 65/200\n",
      "1257/1257 [==============================] - 0s 82us/step - loss: 0.0012\n",
      "Epoch 66/200\n",
      "1257/1257 [==============================] - 0s 85us/step - loss: 0.0012\n",
      "Epoch 67/200\n",
      "1257/1257 [==============================] - 0s 81us/step - loss: 0.0012\n",
      "Epoch 68/200\n",
      "1257/1257 [==============================] - 0s 80us/step - loss: 0.0012\n",
      "Epoch 69/200\n",
      "1257/1257 [==============================] - 0s 81us/step - loss: 0.0012\n",
      "Epoch 70/200\n",
      "1257/1257 [==============================] - 0s 82us/step - loss: 0.0011\n",
      "Epoch 71/200\n",
      "1257/1257 [==============================] - 0s 82us/step - loss: 0.0011\n",
      "Epoch 72/200\n",
      "1257/1257 [==============================] - 0s 86us/step - loss: 0.0011\n",
      "Epoch 73/200\n",
      "1257/1257 [==============================] - 0s 84us/step - loss: 0.0011\n",
      "Epoch 74/200\n",
      "1257/1257 [==============================] - 0s 83us/step - loss: 0.0011\n",
      "Epoch 75/200\n",
      "1257/1257 [==============================] - 0s 87us/step - loss: 0.0011\n",
      "Epoch 76/200\n",
      "1257/1257 [==============================] - 0s 82us/step - loss: 0.0010\n",
      "Epoch 77/200\n",
      "1257/1257 [==============================] - 0s 79us/step - loss: 0.0010\n",
      "Epoch 78/200\n",
      "1257/1257 [==============================] - 0s 81us/step - loss: 9.9799e-04\n",
      "Epoch 79/200\n",
      "1257/1257 [==============================] - 0s 85us/step - loss: 9.9133e-04\n",
      "Epoch 80/200\n",
      "1257/1257 [==============================] - 0s 88us/step - loss: 9.6778e-04\n",
      "Epoch 81/200\n",
      "1257/1257 [==============================] - 0s 83us/step - loss: 9.6509e-04\n",
      "Epoch 82/200\n",
      "1257/1257 [==============================] - 0s 81us/step - loss: 9.4656e-04\n",
      "Epoch 83/200\n",
      "1257/1257 [==============================] - 0s 81us/step - loss: 9.2158e-04\n",
      "Epoch 84/200\n",
      "1257/1257 [==============================] - 0s 80us/step - loss: 9.0131e-04\n",
      "Epoch 85/200\n",
      "1257/1257 [==============================] - 0s 82us/step - loss: 8.8609e-04\n",
      "Epoch 86/200\n",
      "1257/1257 [==============================] - 0s 80us/step - loss: 8.7196e-04\n",
      "Epoch 87/200\n",
      "1257/1257 [==============================] - 0s 85us/step - loss: 8.5469e-04\n",
      "Epoch 88/200\n",
      "1257/1257 [==============================] - 0s 83us/step - loss: 8.4275e-04\n",
      "Epoch 89/200\n",
      "1257/1257 [==============================] - 0s 82us/step - loss: 8.2345e-04\n",
      "Epoch 90/200\n",
      "1257/1257 [==============================] - 0s 81us/step - loss: 8.1538e-04\n",
      "Epoch 91/200\n",
      "1257/1257 [==============================] - 0s 80us/step - loss: 8.0881e-04\n",
      "Epoch 92/200\n",
      "1257/1257 [==============================] - 0s 80us/step - loss: 7.8223e-04\n",
      "Epoch 93/200\n",
      "1257/1257 [==============================] - 0s 84us/step - loss: 7.7087e-04\n",
      "Epoch 94/200\n",
      "1257/1257 [==============================] - 0s 83us/step - loss: 7.6464e-04\n",
      "Epoch 95/200\n"
     ]
    },
    {
     "name": "stdout",
     "output_type": "stream",
     "text": [
      "1257/1257 [==============================] - 0s 93us/step - loss: 7.5362e-04\n",
      "Epoch 96/200\n",
      "1257/1257 [==============================] - 0s 88us/step - loss: 7.2870e-04\n",
      "Epoch 97/200\n",
      "1257/1257 [==============================] - 0s 85us/step - loss: 7.2143e-04\n",
      "Epoch 98/200\n",
      "1257/1257 [==============================] - 0s 82us/step - loss: 7.0861e-04\n",
      "Epoch 99/200\n",
      "1257/1257 [==============================] - 0s 84us/step - loss: 6.9433e-04\n",
      "Epoch 100/200\n",
      "1257/1257 [==============================] - 0s 82us/step - loss: 6.8436e-04\n",
      "Epoch 101/200\n",
      "1257/1257 [==============================] - 0s 80us/step - loss: 6.6805e-04\n",
      "Epoch 102/200\n",
      "1257/1257 [==============================] - 0s 81us/step - loss: 6.5914e-04\n",
      "Epoch 103/200\n",
      "1257/1257 [==============================] - 0s 79us/step - loss: 6.4677e-04\n",
      "Epoch 104/200\n",
      "1257/1257 [==============================] - 0s 83us/step - loss: 6.3958e-04\n",
      "Epoch 105/200\n",
      "1257/1257 [==============================] - 0s 81us/step - loss: 6.3014e-04\n",
      "Epoch 106/200\n",
      "1257/1257 [==============================] - 0s 81us/step - loss: 6.1479e-04\n",
      "Epoch 107/200\n",
      "1257/1257 [==============================] - 0s 84us/step - loss: 6.0421e-04\n",
      "Epoch 108/200\n",
      "1257/1257 [==============================] - 0s 80us/step - loss: 5.9650e-04\n",
      "Epoch 109/200\n",
      "1257/1257 [==============================] - 0s 80us/step - loss: 5.8725e-04\n",
      "Epoch 110/200\n",
      "1257/1257 [==============================] - 0s 88us/step - loss: 5.8137e-04\n",
      "Epoch 111/200\n",
      "1257/1257 [==============================] - 0s 82us/step - loss: 5.7035e-04\n",
      "Epoch 112/200\n",
      "1257/1257 [==============================] - 0s 82us/step - loss: 5.6418e-04\n",
      "Epoch 113/200\n",
      "1257/1257 [==============================] - 0s 82us/step - loss: 5.5604e-04\n",
      "Epoch 114/200\n",
      "1257/1257 [==============================] - 0s 85us/step - loss: 5.4808e-04\n",
      "Epoch 115/200\n",
      "1257/1257 [==============================] - 0s 82us/step - loss: 5.3751e-04\n",
      "Epoch 116/200\n",
      "1257/1257 [==============================] - 0s 83us/step - loss: 5.3470e-04\n",
      "Epoch 117/200\n",
      "1257/1257 [==============================] - 0s 82us/step - loss: 5.2333e-04\n",
      "Epoch 118/200\n",
      "1257/1257 [==============================] - 0s 84us/step - loss: 5.1768e-04\n",
      "Epoch 119/200\n",
      "1257/1257 [==============================] - 0s 82us/step - loss: 5.1152e-04\n",
      "Epoch 120/200\n",
      "1257/1257 [==============================] - 0s 81us/step - loss: 5.0862e-04\n",
      "Epoch 121/200\n",
      "1257/1257 [==============================] - 0s 81us/step - loss: 4.9913e-04\n",
      "Epoch 122/200\n",
      "1257/1257 [==============================] - 0s 80us/step - loss: 4.9898e-04\n",
      "Epoch 123/200\n",
      "1257/1257 [==============================] - 0s 82us/step - loss: 4.8908e-04\n",
      "Epoch 124/200\n",
      "1257/1257 [==============================] - 0s 79us/step - loss: 4.8727e-04\n",
      "Epoch 125/200\n",
      "1257/1257 [==============================] - 0s 80us/step - loss: 4.7971e-04\n",
      "Epoch 126/200\n",
      "1257/1257 [==============================] - 0s 82us/step - loss: 4.8138e-04\n",
      "Epoch 127/200\n",
      "1257/1257 [==============================] - 0s 84us/step - loss: 4.7111e-04\n",
      "Epoch 128/200\n",
      "1257/1257 [==============================] - 0s 81us/step - loss: 4.6738e-04\n",
      "Epoch 129/200\n",
      "1257/1257 [==============================] - 0s 81us/step - loss: 4.6341e-04\n",
      "Epoch 130/200\n",
      "1257/1257 [==============================] - 0s 83us/step - loss: 4.5793e-04\n",
      "Epoch 131/200\n",
      "1257/1257 [==============================] - 0s 83us/step - loss: 4.5669e-04\n",
      "Epoch 132/200\n",
      "1257/1257 [==============================] - 0s 81us/step - loss: 4.5165e-04\n",
      "Epoch 133/200\n",
      "1257/1257 [==============================] - 0s 84us/step - loss: 4.5211e-04\n",
      "Epoch 134/200\n",
      "1257/1257 [==============================] - 0s 82us/step - loss: 4.4632e-04\n",
      "Epoch 135/200\n",
      "1257/1257 [==============================] - 0s 81us/step - loss: 4.4698e-04\n",
      "Epoch 136/200\n",
      "1257/1257 [==============================] - 0s 84us/step - loss: 4.4154e-04\n",
      "Epoch 137/200\n",
      "1257/1257 [==============================] - 0s 97us/step - loss: 4.4191e-04\n",
      "Epoch 138/200\n",
      "1257/1257 [==============================] - 0s 86us/step - loss: 4.3737e-04\n",
      "Epoch 139/200\n",
      "1257/1257 [==============================] - 0s 81us/step - loss: 4.3627e-04\n",
      "Epoch 140/200\n",
      "1257/1257 [==============================] - 0s 85us/step - loss: 4.3395e-04\n",
      "Epoch 141/200\n",
      "1257/1257 [==============================] - 0s 82us/step - loss: 4.3220e-04\n",
      "Epoch 142/200\n",
      "1257/1257 [==============================] - 0s 84us/step - loss: 4.2829e-04\n",
      "Epoch 143/200\n",
      "1257/1257 [==============================] - 0s 82us/step - loss: 4.3019e-04\n",
      "Epoch 144/200\n",
      "1257/1257 [==============================] - 0s 83us/step - loss: 4.2902e-04\n",
      "Epoch 145/200\n",
      "1257/1257 [==============================] - 0s 84us/step - loss: 4.2826e-04\n",
      "Epoch 146/200\n",
      "1257/1257 [==============================] - 0s 84us/step - loss: 4.2408e-04\n",
      "Epoch 147/200\n",
      "1257/1257 [==============================] - 0s 84us/step - loss: 4.2241e-04\n",
      "Epoch 148/200\n",
      "1257/1257 [==============================] - 0s 88us/step - loss: 4.2152e-04\n",
      "Epoch 149/200\n",
      "1257/1257 [==============================] - 0s 83us/step - loss: 4.2381e-04\n",
      "Epoch 150/200\n",
      "1257/1257 [==============================] - 0s 82us/step - loss: 4.1853e-04\n",
      "Epoch 151/200\n",
      "1257/1257 [==============================] - 0s 89us/step - loss: 4.2669e-04\n",
      "Epoch 152/200\n",
      "1257/1257 [==============================] - 0s 87us/step - loss: 4.1697e-04\n",
      "Epoch 153/200\n",
      "1257/1257 [==============================] - 0s 89us/step - loss: 4.1768e-04\n",
      "Epoch 154/200\n",
      "1257/1257 [==============================] - 0s 101us/step - loss: 4.1801e-04\n",
      "Epoch 155/200\n",
      "1257/1257 [==============================] - 0s 96us/step - loss: 4.1743e-04\n",
      "Epoch 156/200\n",
      "1257/1257 [==============================] - 0s 90us/step - loss: 4.1861e-04\n",
      "Epoch 157/200\n",
      "1257/1257 [==============================] - 0s 84us/step - loss: 4.1737e-04\n",
      "Epoch 158/200\n",
      "1257/1257 [==============================] - 0s 89us/step - loss: 4.1765e-04\n",
      "Epoch 159/200\n",
      "1257/1257 [==============================] - 0s 82us/step - loss: 4.1520e-04\n",
      "Epoch 160/200\n",
      "1257/1257 [==============================] - 0s 81us/step - loss: 4.1337e-04\n",
      "Epoch 161/200\n",
      "1257/1257 [==============================] - 0s 81us/step - loss: 4.1608e-04\n",
      "Epoch 162/200\n",
      "1257/1257 [==============================] - 0s 84us/step - loss: 4.2072e-04\n",
      "Epoch 163/200\n",
      "1257/1257 [==============================] - 0s 84us/step - loss: 4.1536e-04\n",
      "Epoch 164/200\n",
      "1257/1257 [==============================] - 0s 81us/step - loss: 4.1857e-04\n",
      "Epoch 165/200\n",
      "1257/1257 [==============================] - 0s 116us/step - loss: 4.1190e-04\n",
      "Epoch 166/200\n",
      "1257/1257 [==============================] - 0s 97us/step - loss: 4.1034e-04\n",
      "Epoch 167/200\n",
      "1257/1257 [==============================] - 0s 88us/step - loss: 4.2352e-04\n",
      "Epoch 168/200\n",
      "1257/1257 [==============================] - 0s 89us/step - loss: 4.2238e-04\n",
      "Epoch 169/200\n",
      "1257/1257 [==============================] - 0s 86us/step - loss: 4.1258e-04\n",
      "Epoch 170/200\n",
      "1257/1257 [==============================] - 0s 93us/step - loss: 4.1075e-04\n",
      "Epoch 171/200\n",
      "1257/1257 [==============================] - 0s 89us/step - loss: 4.1427e-04\n",
      "Epoch 172/200\n",
      "1257/1257 [==============================] - 0s 91us/step - loss: 4.0904e-04\n",
      "Epoch 173/200\n",
      "1257/1257 [==============================] - 0s 88us/step - loss: 4.1086e-04\n",
      "Epoch 174/200\n",
      "1257/1257 [==============================] - 0s 78us/step - loss: 4.1013e-04\n",
      "Epoch 175/200\n",
      "1257/1257 [==============================] - 0s 79us/step - loss: 4.1227e-04\n",
      "Epoch 176/200\n",
      "1257/1257 [==============================] - 0s 82us/step - loss: 4.1462e-04\n",
      "Epoch 177/200\n",
      "1257/1257 [==============================] - 0s 92us/step - loss: 4.1618e-04\n",
      "Epoch 178/200\n",
      "1257/1257 [==============================] - 0s 100us/step - loss: 4.1451e-04\n",
      "Epoch 179/200\n",
      "1257/1257 [==============================] - 0s 91us/step - loss: 4.0758e-04\n",
      "Epoch 180/200\n",
      "1257/1257 [==============================] - 0s 94us/step - loss: 4.1261e-04\n",
      "Epoch 181/200\n",
      "1257/1257 [==============================] - 0s 91us/step - loss: 4.1441e-04\n",
      "Epoch 182/200\n",
      "1257/1257 [==============================] - 0s 98us/step - loss: 4.1242e-04\n",
      "Epoch 183/200\n",
      "1257/1257 [==============================] - 0s 83us/step - loss: 4.0949e-04\n",
      "Epoch 184/200\n",
      "1257/1257 [==============================] - 0s 84us/step - loss: 4.1143e-04\n",
      "Epoch 185/200\n"
     ]
    },
    {
     "name": "stdout",
     "output_type": "stream",
     "text": [
      "1257/1257 [==============================] - 0s 84us/step - loss: 4.0986e-04\n",
      "Epoch 186/200\n",
      "1257/1257 [==============================] - 0s 82us/step - loss: 4.1056e-04\n",
      "Epoch 187/200\n",
      "1257/1257 [==============================] - 0s 81us/step - loss: 4.1084e-04\n",
      "Epoch 188/200\n",
      "1257/1257 [==============================] - 0s 84us/step - loss: 4.0919e-04\n",
      "Epoch 189/200\n",
      "1257/1257 [==============================] - 0s 83us/step - loss: 4.1112e-04\n",
      "Epoch 190/200\n",
      "1257/1257 [==============================] - 0s 86us/step - loss: 4.0946e-04\n",
      "Epoch 191/200\n",
      "1257/1257 [==============================] - 0s 81us/step - loss: 4.0916e-04\n",
      "Epoch 192/200\n",
      "1257/1257 [==============================] - 0s 93us/step - loss: 4.1434e-04\n",
      "Epoch 193/200\n",
      "1257/1257 [==============================] - 0s 92us/step - loss: 4.1825e-04\n",
      "Epoch 194/200\n",
      "1257/1257 [==============================] - 0s 92us/step - loss: 4.1052e-04\n",
      "Epoch 195/200\n",
      "1257/1257 [==============================] - 0s 76us/step - loss: 4.1173e-04\n",
      "Epoch 196/200\n",
      "1257/1257 [==============================] - 0s 81us/step - loss: 4.1123e-04\n",
      "Epoch 197/200\n",
      "1257/1257 [==============================] - 0s 94us/step - loss: 4.1221e-04\n",
      "Epoch 198/200\n",
      "1257/1257 [==============================] - 0s 94us/step - loss: 4.1425e-04\n",
      "Epoch 199/200\n",
      "1257/1257 [==============================] - 0s 102us/step - loss: 4.0873e-04\n",
      "Epoch 200/200\n",
      "1257/1257 [==============================] - 0s 89us/step - loss: 4.1037e-04\n"
     ]
    },
    {
     "data": {
      "text/plain": [
       "<keras.callbacks.History at 0x125c8dd68>"
      ]
     },
     "execution_count": 16,
     "metadata": {},
     "output_type": "execute_result"
    }
   ],
   "source": [
    "model.fit(X_train, y_train, batch_size = 32, epochs = 200)"
   ]
  },
  {
   "cell_type": "markdown",
   "metadata": {},
   "source": [
    "Validation"
   ]
  },
  {
   "cell_type": "code",
   "execution_count": 17,
   "metadata": {},
   "outputs": [
    {
     "data": {
      "text/html": [
       "<div>\n",
       "<style scoped>\n",
       "    .dataframe tbody tr th:only-of-type {\n",
       "        vertical-align: middle;\n",
       "    }\n",
       "\n",
       "    .dataframe tbody tr th {\n",
       "        vertical-align: top;\n",
       "    }\n",
       "\n",
       "    .dataframe thead th {\n",
       "        text-align: right;\n",
       "    }\n",
       "</style>\n",
       "<table border=\"1\" class=\"dataframe\">\n",
       "  <thead>\n",
       "    <tr style=\"text-align: right;\">\n",
       "      <th></th>\n",
       "      <th>Open</th>\n",
       "    </tr>\n",
       "  </thead>\n",
       "  <tbody>\n",
       "    <tr>\n",
       "      <th>0</th>\n",
       "      <td>214.860001</td>\n",
       "    </tr>\n",
       "    <tr>\n",
       "      <th>1</th>\n",
       "      <td>214.750000</td>\n",
       "    </tr>\n",
       "    <tr>\n",
       "      <th>2</th>\n",
       "      <td>226.419998</td>\n",
       "    </tr>\n",
       "    <tr>\n",
       "      <th>3</th>\n",
       "      <td>226.929993</td>\n",
       "    </tr>\n",
       "    <tr>\n",
       "      <th>4</th>\n",
       "      <td>228.970001</td>\n",
       "    </tr>\n",
       "  </tbody>\n",
       "</table>\n",
       "</div>"
      ],
      "text/plain": [
       "         Open\n",
       "0  214.860001\n",
       "1  214.750000\n",
       "2  226.419998\n",
       "3  226.929993\n",
       "4  228.970001"
      ]
     },
     "execution_count": 17,
     "metadata": {},
     "output_type": "execute_result"
    }
   ],
   "source": [
    "actual = test_set.iloc[:,1:2]\n",
    "actual.head()"
   ]
  },
  {
   "cell_type": "code",
   "execution_count": 18,
   "metadata": {},
   "outputs": [],
   "source": [
    "actual = actual.values"
   ]
  },
  {
   "cell_type": "code",
   "execution_count": 19,
   "metadata": {},
   "outputs": [],
   "source": [
    "# Creating prediction\n",
    "actual = sc.transform(actual)\n",
    "actual = np.reshape(actual, (251, 1, 1))"
   ]
  },
  {
   "cell_type": "code",
   "execution_count": 20,
   "metadata": {},
   "outputs": [
    {
     "data": {
      "text/plain": [
       "(251, 1, 1)"
      ]
     },
     "execution_count": 20,
     "metadata": {},
     "output_type": "execute_result"
    }
   ],
   "source": [
    "actual.shape"
   ]
  },
  {
   "cell_type": "code",
   "execution_count": 21,
   "metadata": {},
   "outputs": [],
   "source": [
    "predicted_stock_price = model.predict(actual)"
   ]
  },
  {
   "cell_type": "code",
   "execution_count": 22,
   "metadata": {},
   "outputs": [],
   "source": [
    "predicted_stock_price = sc.inverse_transform(predicted_stock_price)"
   ]
  },
  {
   "cell_type": "code",
   "execution_count": 23,
   "metadata": {},
   "outputs": [],
   "source": [
    "real_stock_price = test_set.iloc[:, 1:2]\n",
    "real_stock_price = real_stock_price.values"
   ]
  },
  {
   "cell_type": "code",
   "execution_count": 24,
   "metadata": {},
   "outputs": [
    {
     "data": {
      "image/png": "[encoded data removed]",
      "text/plain": [
       "<Figure size 432x288 with 1 Axes>"
      ]
     },
     "metadata": {
      "image/png": {
       "height": 277,
       "width": 390
      }
     },
     "output_type": "display_data"
    }
   ],
   "source": [
    "plt.plot(real_stock_price, color = 'orange', label = 'Real Tesla Stock Price')\n",
    "plt.plot(predicted_stock_price, color = 'blue', label = 'Predicted Tesla Stock Price')\n",
    "plt.title('Tesla Stock Price Prediction')\n",
    "plt.xlabel('Days')\n",
    "plt.ylabel('Tesla Stock Price')\n",
    "plt.legend()\n",
    "plt.show()"
   ]
  }
 ],
 "metadata": {
  "kernelspec": {
   "display_name": "Python 3",
   "language": "python",
   "name": "python3"
  },
  "language_info": {
   "codemirror_mode": {
    "name": "ipython",
    "version": 3
   },
   "file_extension": ".py",
   "mimetype": "text/x-python",
   "name": "python",
   "nbconvert_exporter": "python",
   "pygments_lexer": "ipython3",
   "version": "3.6.5"
  }
 },
 "nbformat": 4,
 "nbformat_minor": 2
}
